{
 "cells": [
  {
   "cell_type": "markdown",
   "metadata": {},
   "source": [
    "# Parsing APIs Example"
   ]
  },
  {
   "cell_type": "markdown",
   "metadata": {},
   "source": [
    "## Intro\n",
    "\n",
    "Now we will take a look on a real data. When you parse data from web you will often meet API based web-pages. \n",
    "\n",
    "For example [zalando.fr](https://www.zalando.fr/accueil-homme/) is API based web-page. \n",
    "\n",
    "In this guided lab you will learn how to obtain the links from webpages and extract the data. Read through this doc, execute the cells in order and make sure you understand the explanations. \n",
    "\n",
    "*Note: This guided lab uses Google Chrome. Other browsers like Safari and Firefox have similar tools for developers but they work differently. To save your time in following this lab, it is strongly recommended that you install and use Google Chrome.*"
   ]
  },
  {
   "cell_type": "markdown",
   "metadata": {},
   "source": [
    "## Obtaining the link\n",
    "\n",
    "Zalando is discount e-store where you can buy clothes and accesories with discount. When we go to the web-page, we can choose different sections. First the general process will be shown using [Children section](https://www.zalando.fr/accueil-enfant/) as example.\n",
    "\n",
    "Here we will parse data about promotions only. Therefore, final output will be the DataFrame with all the goods under discount.\n",
    "\n",
    "[![Image from Gyazo](https://i.gyazo.com/fa4874d8e81c7570273bbfb853d66308.png)](https://gyazo.com/fa4874d8e81c7570273bbfb853d66308)\n",
    "\n",
    "\n",
    "We go to Promos page. Right click of mouse shows us a list of actions possible, from which we select Inspect.\n",
    "\n",
    "<img src='https://i.gyazo.com/bccbd11d69c9040dc98758d443e32052.png' width=\"400\">\n",
    "\n",
    "\n",
    "You will see the menu dropdown on the right side or on the bottom of the window. There you should click on Network:\n",
    "\n",
    "\n",
    "[![Image from Gyazo](https://i.gyazo.com/f7e0db81cbfee67694183d1a7640bf81.png)](https://gyazo.com/f7e0db81cbfee67694183d1a7640bf81)"
   ]
  },
  {
   "cell_type": "markdown",
   "metadata": {},
   "source": [
    "Right after the developer part will change showing the files behind the page. In order to obtain only useful files we select the following settings:\n",
    "1. Preserve Log\n",
    "2. Select XHR files.\n",
    "\n",
    "[![Image from Gyazo](https://i.gyazo.com/9a899d4441d9d93e795f79747f1e47d5.png)](https://gyazo.com/9a899d4441d9d93e795f79747f1e47d5)\n",
    "\n",
    "In order to obtain some files we need to scrool down and go forward to second page. \n",
    "\n",
    "[![Image from Gyazo](https://i.gyazo.com/0956eb3d5125075a236c9a439c7749c7.png)](https://gyazo.com/0956eb3d5125075a236c9a439c7749c7)\n",
    "\n",
    "In the Network panel you can see the following files being uploaded. All the data on the web-page is uploaded from the json file, which is one of the following. It is important to understand which file contains what kind of information. \n",
    "\n",
    "<a href=\"https://gyazo.com/cf97a655869f0b22df0ada1cb2a41c3c\"><img src=\"https://i.gyazo.com/cf97a655869f0b22df0ada1cb2a41c3c.png\" alt=\"Image from Gyazo\" width=\"724.8\"/></a>\n",
    "\n",
    "When you find what kind of information you need for the data to be uploaded you just test it. Here we need the article... file:\n",
    "\n",
    "<a href=\"https://gyazo.com/78b35bf492994b3f35c0564a21da202a\"><img src=\"https://i.gyazo.com/78b35bf492994b3f35c0564a21da202a.png\" alt=\"Image from Gyazo\" width=\"727.2\"/></a>\n",
    "\n",
    "When we test the link in Chrome inkognito mode we obtain the proper json file:\n",
    "\n",
    "\n",
    "<a href=\"https://gyazo.com/b60453fa98454fa29771c731a5174443\"><img src=\"https://i.gyazo.com/b60453fa98454fa29771c731a5174443.png\" alt=\"Image from Gyazo\" width=\"1530.4\"/></a>"
   ]
  },
  {
   "cell_type": "markdown",
   "metadata": {},
   "source": [
    "In order to change the objects in the json file (kind of pagination), you need to change the offset (the number of the first element on the page). in fact, if you take a look on the link, it is easy to unerstand the structure of the link.\n",
    "\n",
    "# Reading the data\n",
    "\n",
    "Now the party rocks! When we know how can we obtain the data, it is not a problem to obtain the whole database with all the data from the web-page.\n",
    "In this lab you will collect your database of Zalando products. You select which goods you want to track. You can define as many filters to your data as you want. Just make sure that the data represents the filters.\n",
    "\n",
    "\n"
   ]
  },
  {
   "cell_type": "code",
   "execution_count": 1,
   "metadata": {},
   "outputs": [],
   "source": [
    "import json\n",
    "import requests\n",
    "import pandas as pd\n",
    "from pandas.io.json import json_normalize\n"
   ]
  },
  {
   "cell_type": "code",
   "execution_count": 2,
   "metadata": {},
   "outputs": [],
   "source": [
    "# Paste the url you obtained for your data\n",
    "url='https://www.zalando.fr/api/catalog/articles?categories=promo-enfant&limit=84&offset=84&sort=sale'\n",
    "headers = {'User-Agent':'Mozilla/5.0 (Macintosh; Intel Mac OS X 10_15_4) AppleWebKit/537.36 (KHTML, like Gecko) Chrome/81.0.4044.138 Safari/537.36'}"
   ]
  },
  {
   "cell_type": "markdown",
   "metadata": {},
   "source": [
    "#### Collect first 84 object of the of the data (1st page)\n",
    "\n",
    "Your output should be a Pandas DataFrame of goods. Each row should contain only text or numbers, having *family_articles, flags, media* and *sizes* remaining lists (they are exceptions)."
   ]
  },
  {
   "cell_type": "code",
   "execution_count": 3,
   "metadata": {},
   "outputs": [
    {
     "output_type": "execute_result",
     "data": {
      "text/plain": "              sku                                               name  \\\n0   GP023K049-A12  GIRLS ACTIVE LOGO HOOD - Sweat à capuche - new...   \n1   RI913G021-A11                                   Sandales - white   \n2   NA624L01F-Q11      RAINFOREST SUMMER - Veste imperméable - black   \n3   SK114D048-Q11        ERUPTERS - Baskets basses - black/blue/lime   \n4   TH343F02L-A11     YOUTH REACTOR - Veste coupe-vent - white/black   \n..            ...                                                ...   \n79  GP024K06M-K11  TODDLER BOY LOGO - veste en sweat zippée - blu...   \n80  TO114D028-K11                        Baskets basses - blue/white   \n81  TO124K04F-Q11                     ESSENTIAL - Sweatshirt - black   \n82  DM183A068-A11                      CULOTTE 4 PACK - Slip - blanc   \n83  DM184A04B-K11                     BOXER 2 PACK - Shorty - marine   \n\n                                               sizes  \\\n0                 [4-5a, 6-7a, 8-9a, 10-11a, 12-13a]   \n1                     [29, 30.5, 32, 33, 34.5, 35.5]   \n2                                [6a, 10a, 12a, 16a]   \n3                           [21, 22, 23, 24, 25, 26]   \n4                            [10a/12a, 5a/6a, 7a/8a]   \n..                                               ...   \n79                                  [2a, 3a, 4a, 5a]   \n80  [30, 31, 32, 33, 34, 35, 36, 37, 38, 39, 40, 41]   \n81                      [6a, 8a, 10a, 12a, 14a, 16a]   \n82                                        [14a, 16a]   \n83                              [10a, 12a, 14a, 16a]   \n\n                                              url_key  \\\n0   gap-girls-active-logo-hood-sweatshirt-gp023k04...   \n1           river-island-sandales-white-ri913g021-a11   \n2   napapijri-rainforest-sum-2-veste-impermeable-n...   \n3   skechers-erupters-baskets-basses-blackbluelime...   \n4   the-north-face-youth-reactor-blouson-th343f02l...   \n..                                                ...   \n79  gap-logo-veste-en-sweat-zippee-blue-galaxy-gp0...   \n80  tommy-hilfiger-baskets-basses-bluewhite-to114d...   \n81  tommy-hilfiger-essential-sweatshirt-black-to12...   \n82        dim-culotte-4-pack-slip-blanc-dm183a068-a11   \n83       dim-boxer-2-pack-shorty-marine-dm184a04b-k11   \n\n                                                media      brand_name  \\\n0   [{'path': 'GP/02/3K/04/9A/12/GP023K049-A12@4.j...             GAP   \n1   [{'path': 'RI/91/3G/02/1A/11/RI913G021-A11@7.j...    River Island   \n2   [{'path': 'NA/62/4L/01/FQ/11/NA624L01F-Q11@6.j...       Napapijri   \n3   [{'path': 'SK/11/4D/04/8Q/11/SK114D048-Q11@10....        Skechers   \n4   [{'path': 'TH/34/3F/02/LA/11/TH343F02L-A11@10....  The North Face   \n..                                                ...             ...   \n79  [{'path': 'GP/02/4K/06/MK/11/GP024K06M-K11@2.j...             GAP   \n80  [{'path': 'TO/11/4D/02/8K/11/TO114D028-K11@8.1...  Tommy Hilfiger   \n81  [{'path': 'TO/12/4K/04/FQ/11/TO124K04F-Q11@5.j...  Tommy Hilfiger   \n82  [{'path': 'DM/18/3A/06/8A/11/DM183A068-A11@7.j...             DIM   \n83  [{'path': 'DM/18/4A/04/BK/11/DM184A04B-K11@2.j...             DIM   \n\n    is_premium                                    family_articles  \\\n0        False  [{'sku': 'GP023K049-A12', 'url_key': 'gap-girl...   \n1        False  [{'sku': 'RI913G021-A11', 'url_key': 'river-is...   \n2        False  [{'sku': 'NA624L01F-Q11', 'url_key': 'napapijr...   \n3        False  [{'sku': 'SK114D048-Q11', 'url_key': 'skechers...   \n4        False  [{'sku': 'TH343F02L-A11', 'url_key': 'the-nort...   \n..         ...                                                ...   \n79       False  [{'sku': 'GP024K06M-K11', 'url_key': 'gap-logo...   \n80       False  [{'sku': 'TO114D028-K11', 'url_key': 'tommy-hi...   \n81       False  [{'sku': 'TO124K04F-Q11', 'url_key': 'tommy-hi...   \n82       False  [{'sku': 'DM183A068-A11', 'url_key': 'dim-culo...   \n83       False  [{'sku': 'DM184A04B-K11', 'url_key': 'dim-boxe...   \n\n                                                flags product_group  \\\n0   [{'key': 'discountRate', 'value': '-15%', 'tra...      clothing   \n1   [{'key': 'discountRate', 'value': 'Jusqu’à -15...          shoe   \n2   [{'key': 'discountRate', 'value': '-40%', 'tra...      clothing   \n3   [{'key': 'discountRate', 'value': '-10%', 'tra...          shoe   \n4   [{'key': 'discountRate', 'value': '-10%', 'tra...      clothing   \n..                                                ...           ...   \n79  [{'key': 'discountRate', 'value': '-10%', 'tra...      clothing   \n80  [{'key': 'discountRate', 'value': '-25%', 'tra...          shoe   \n81  [{'key': 'discountRate', 'value': '-20%', 'tra...      clothing   \n82  [{'key': 'discountRate', 'value': '-15%', 'tra...     underwear   \n83  [{'key': 'discountRate', 'value': '-25%', 'tra...     underwear   \n\n   delivery_promises price.original price.promotional  \\\n0                 []        26,95 €           22,95 €   \n1                 []        24,00 €           20,40 €   \n2                 []       119,95 €           71,95 €   \n3                 []        38,95 €           35,05 €   \n4                 []        54,95 €           49,45 €   \n..               ...            ...               ...   \n79                []        22,95 €           20,65 €   \n80                []        64,95 €           48,95 €   \n81                []        49,95 €           39,95 €   \n82                []        14,95 €           12,75 €   \n83                []        17,95 €           13,55 €   \n\n    price.has_different_prices  price.has_different_original_prices  \\\n0                        False                                False   \n1                         True                                False   \n2                         True                                False   \n3                        False                                False   \n4                        False                                False   \n..                         ...                                  ...   \n79                        True                                False   \n80                        True                                False   \n81                        True                                False   \n82                       False                                False   \n83                       False                                False   \n\n    price.has_different_promotional_prices  \\\n0                                    False   \n1                                     True   \n2                                     True   \n3                                    False   \n4                                    False   \n..                                     ...   \n79                                    True   \n80                                    True   \n81                                    True   \n82                                   False   \n83                                   False   \n\n    price.has_discount_on_selected_sizes_only amount  \n0                                       False    NaN  \n1                                       False    NaN  \n2                                       False    NaN  \n3                                       False    NaN  \n4                                       False    NaN  \n..                                        ...    ...  \n79                                      False    NaN  \n80                                      False    NaN  \n81                                      False    NaN  \n82                                      False    NaN  \n83                                      False    NaN  \n\n[84 rows x 18 columns]",
      "text/html": "<div>\n<style scoped>\n    .dataframe tbody tr th:only-of-type {\n        vertical-align: middle;\n    }\n\n    .dataframe tbody tr th {\n        vertical-align: top;\n    }\n\n    .dataframe thead th {\n        text-align: right;\n    }\n</style>\n<table border=\"1\" class=\"dataframe\">\n  <thead>\n    <tr style=\"text-align: right;\">\n      <th></th>\n      <th>sku</th>\n      <th>name</th>\n      <th>sizes</th>\n      <th>url_key</th>\n      <th>media</th>\n      <th>brand_name</th>\n      <th>is_premium</th>\n      <th>family_articles</th>\n      <th>flags</th>\n      <th>product_group</th>\n      <th>delivery_promises</th>\n      <th>price.original</th>\n      <th>price.promotional</th>\n      <th>price.has_different_prices</th>\n      <th>price.has_different_original_prices</th>\n      <th>price.has_different_promotional_prices</th>\n      <th>price.has_discount_on_selected_sizes_only</th>\n      <th>amount</th>\n    </tr>\n  </thead>\n  <tbody>\n    <tr>\n      <th>0</th>\n      <td>GP023K049-A12</td>\n      <td>GIRLS ACTIVE LOGO HOOD - Sweat à capuche - new...</td>\n      <td>[4-5a, 6-7a, 8-9a, 10-11a, 12-13a]</td>\n      <td>gap-girls-active-logo-hood-sweatshirt-gp023k04...</td>\n      <td>[{'path': 'GP/02/3K/04/9A/12/GP023K049-A12@4.j...</td>\n      <td>GAP</td>\n      <td>False</td>\n      <td>[{'sku': 'GP023K049-A12', 'url_key': 'gap-girl...</td>\n      <td>[{'key': 'discountRate', 'value': '-15%', 'tra...</td>\n      <td>clothing</td>\n      <td>[]</td>\n      <td>26,95 €</td>\n      <td>22,95 €</td>\n      <td>False</td>\n      <td>False</td>\n      <td>False</td>\n      <td>False</td>\n      <td>NaN</td>\n    </tr>\n    <tr>\n      <th>1</th>\n      <td>RI913G021-A11</td>\n      <td>Sandales - white</td>\n      <td>[29, 30.5, 32, 33, 34.5, 35.5]</td>\n      <td>river-island-sandales-white-ri913g021-a11</td>\n      <td>[{'path': 'RI/91/3G/02/1A/11/RI913G021-A11@7.j...</td>\n      <td>River Island</td>\n      <td>False</td>\n      <td>[{'sku': 'RI913G021-A11', 'url_key': 'river-is...</td>\n      <td>[{'key': 'discountRate', 'value': 'Jusqu’à -15...</td>\n      <td>shoe</td>\n      <td>[]</td>\n      <td>24,00 €</td>\n      <td>20,40 €</td>\n      <td>True</td>\n      <td>False</td>\n      <td>True</td>\n      <td>False</td>\n      <td>NaN</td>\n    </tr>\n    <tr>\n      <th>2</th>\n      <td>NA624L01F-Q11</td>\n      <td>RAINFOREST SUMMER - Veste imperméable - black</td>\n      <td>[6a, 10a, 12a, 16a]</td>\n      <td>napapijri-rainforest-sum-2-veste-impermeable-n...</td>\n      <td>[{'path': 'NA/62/4L/01/FQ/11/NA624L01F-Q11@6.j...</td>\n      <td>Napapijri</td>\n      <td>False</td>\n      <td>[{'sku': 'NA624L01F-Q11', 'url_key': 'napapijr...</td>\n      <td>[{'key': 'discountRate', 'value': '-40%', 'tra...</td>\n      <td>clothing</td>\n      <td>[]</td>\n      <td>119,95 €</td>\n      <td>71,95 €</td>\n      <td>True</td>\n      <td>False</td>\n      <td>True</td>\n      <td>False</td>\n      <td>NaN</td>\n    </tr>\n    <tr>\n      <th>3</th>\n      <td>SK114D048-Q11</td>\n      <td>ERUPTERS - Baskets basses - black/blue/lime</td>\n      <td>[21, 22, 23, 24, 25, 26]</td>\n      <td>skechers-erupters-baskets-basses-blackbluelime...</td>\n      <td>[{'path': 'SK/11/4D/04/8Q/11/SK114D048-Q11@10....</td>\n      <td>Skechers</td>\n      <td>False</td>\n      <td>[{'sku': 'SK114D048-Q11', 'url_key': 'skechers...</td>\n      <td>[{'key': 'discountRate', 'value': '-10%', 'tra...</td>\n      <td>shoe</td>\n      <td>[]</td>\n      <td>38,95 €</td>\n      <td>35,05 €</td>\n      <td>False</td>\n      <td>False</td>\n      <td>False</td>\n      <td>False</td>\n      <td>NaN</td>\n    </tr>\n    <tr>\n      <th>4</th>\n      <td>TH343F02L-A11</td>\n      <td>YOUTH REACTOR - Veste coupe-vent - white/black</td>\n      <td>[10a/12a, 5a/6a, 7a/8a]</td>\n      <td>the-north-face-youth-reactor-blouson-th343f02l...</td>\n      <td>[{'path': 'TH/34/3F/02/LA/11/TH343F02L-A11@10....</td>\n      <td>The North Face</td>\n      <td>False</td>\n      <td>[{'sku': 'TH343F02L-A11', 'url_key': 'the-nort...</td>\n      <td>[{'key': 'discountRate', 'value': '-10%', 'tra...</td>\n      <td>clothing</td>\n      <td>[]</td>\n      <td>54,95 €</td>\n      <td>49,45 €</td>\n      <td>False</td>\n      <td>False</td>\n      <td>False</td>\n      <td>False</td>\n      <td>NaN</td>\n    </tr>\n    <tr>\n      <th>...</th>\n      <td>...</td>\n      <td>...</td>\n      <td>...</td>\n      <td>...</td>\n      <td>...</td>\n      <td>...</td>\n      <td>...</td>\n      <td>...</td>\n      <td>...</td>\n      <td>...</td>\n      <td>...</td>\n      <td>...</td>\n      <td>...</td>\n      <td>...</td>\n      <td>...</td>\n      <td>...</td>\n      <td>...</td>\n      <td>...</td>\n    </tr>\n    <tr>\n      <th>79</th>\n      <td>GP024K06M-K11</td>\n      <td>TODDLER BOY LOGO - veste en sweat zippée - blu...</td>\n      <td>[2a, 3a, 4a, 5a]</td>\n      <td>gap-logo-veste-en-sweat-zippee-blue-galaxy-gp0...</td>\n      <td>[{'path': 'GP/02/4K/06/MK/11/GP024K06M-K11@2.j...</td>\n      <td>GAP</td>\n      <td>False</td>\n      <td>[{'sku': 'GP024K06M-K11', 'url_key': 'gap-logo...</td>\n      <td>[{'key': 'discountRate', 'value': '-10%', 'tra...</td>\n      <td>clothing</td>\n      <td>[]</td>\n      <td>22,95 €</td>\n      <td>20,65 €</td>\n      <td>True</td>\n      <td>False</td>\n      <td>True</td>\n      <td>False</td>\n      <td>NaN</td>\n    </tr>\n    <tr>\n      <th>80</th>\n      <td>TO114D028-K11</td>\n      <td>Baskets basses - blue/white</td>\n      <td>[30, 31, 32, 33, 34, 35, 36, 37, 38, 39, 40, 41]</td>\n      <td>tommy-hilfiger-baskets-basses-bluewhite-to114d...</td>\n      <td>[{'path': 'TO/11/4D/02/8K/11/TO114D028-K11@8.1...</td>\n      <td>Tommy Hilfiger</td>\n      <td>False</td>\n      <td>[{'sku': 'TO114D028-K11', 'url_key': 'tommy-hi...</td>\n      <td>[{'key': 'discountRate', 'value': '-25%', 'tra...</td>\n      <td>shoe</td>\n      <td>[]</td>\n      <td>64,95 €</td>\n      <td>48,95 €</td>\n      <td>True</td>\n      <td>False</td>\n      <td>True</td>\n      <td>False</td>\n      <td>NaN</td>\n    </tr>\n    <tr>\n      <th>81</th>\n      <td>TO124K04F-Q11</td>\n      <td>ESSENTIAL - Sweatshirt - black</td>\n      <td>[6a, 8a, 10a, 12a, 14a, 16a]</td>\n      <td>tommy-hilfiger-essential-sweatshirt-black-to12...</td>\n      <td>[{'path': 'TO/12/4K/04/FQ/11/TO124K04F-Q11@5.j...</td>\n      <td>Tommy Hilfiger</td>\n      <td>False</td>\n      <td>[{'sku': 'TO124K04F-Q11', 'url_key': 'tommy-hi...</td>\n      <td>[{'key': 'discountRate', 'value': '-20%', 'tra...</td>\n      <td>clothing</td>\n      <td>[]</td>\n      <td>49,95 €</td>\n      <td>39,95 €</td>\n      <td>True</td>\n      <td>False</td>\n      <td>True</td>\n      <td>False</td>\n      <td>NaN</td>\n    </tr>\n    <tr>\n      <th>82</th>\n      <td>DM183A068-A11</td>\n      <td>CULOTTE 4 PACK - Slip - blanc</td>\n      <td>[14a, 16a]</td>\n      <td>dim-culotte-4-pack-slip-blanc-dm183a068-a11</td>\n      <td>[{'path': 'DM/18/3A/06/8A/11/DM183A068-A11@7.j...</td>\n      <td>DIM</td>\n      <td>False</td>\n      <td>[{'sku': 'DM183A068-A11', 'url_key': 'dim-culo...</td>\n      <td>[{'key': 'discountRate', 'value': '-15%', 'tra...</td>\n      <td>underwear</td>\n      <td>[]</td>\n      <td>14,95 €</td>\n      <td>12,75 €</td>\n      <td>False</td>\n      <td>False</td>\n      <td>False</td>\n      <td>False</td>\n      <td>NaN</td>\n    </tr>\n    <tr>\n      <th>83</th>\n      <td>DM184A04B-K11</td>\n      <td>BOXER 2 PACK - Shorty - marine</td>\n      <td>[10a, 12a, 14a, 16a]</td>\n      <td>dim-boxer-2-pack-shorty-marine-dm184a04b-k11</td>\n      <td>[{'path': 'DM/18/4A/04/BK/11/DM184A04B-K11@2.j...</td>\n      <td>DIM</td>\n      <td>False</td>\n      <td>[{'sku': 'DM184A04B-K11', 'url_key': 'dim-boxe...</td>\n      <td>[{'key': 'discountRate', 'value': '-25%', 'tra...</td>\n      <td>underwear</td>\n      <td>[]</td>\n      <td>17,95 €</td>\n      <td>13,55 €</td>\n      <td>False</td>\n      <td>False</td>\n      <td>False</td>\n      <td>False</td>\n      <td>NaN</td>\n    </tr>\n  </tbody>\n</table>\n<p>84 rows × 18 columns</p>\n</div>"
     },
     "metadata": {},
     "execution_count": 3
    }
   ],
   "source": [
    "# Your code\n",
    "\n",
    "response = requests.get(url,headers=headers)\n",
    "results = response.json()\n",
    "results\n",
    "\n",
    "\n",
    "flattened_data = json_normalize(results)\n",
    "\n",
    "flattened_data1 = json_normalize(flattened_data.articles[0])\n",
    "flattened_data1"
   ]
  },
  {
   "cell_type": "markdown",
   "metadata": {},
   "source": [
    "#### Collect all the objects from selected filters. Total number of pages can be found in the same json. Use *sku* column as index.\n",
    "\n",
    "Your output should be a Pandas DataFrame of goods. Each row should contain only text or numbers, having family_articles, flags, media and sizes remaining lists (they are exceptions)."
   ]
  },
  {
   "cell_type": "code",
   "execution_count": 11,
   "metadata": {},
   "outputs": [
    {
     "output_type": "execute_result",
     "data": {
      "text/plain": "              amount       brand_name delivery_promises  \\\nsku                                                       \nPU116E00J-A11    NaN             Puma                []   \nL0423B00N-Q11    NaN             LMTD                []   \nPU122O09U-I11    NaN             Puma                []   \nHG223F05I-A11    NaN      happy girls                []   \nK2023A00P-K11    NaN          Kaporal                []   \n...              ...              ...               ...   \nSA184B0AP-K11    NaN          Sanetta                []   \nSA184B0AU-Q11    NaN          Sanetta                []   \nSA184B0AO-K11    NaN          Sanetta                []   \nJ2684B00U-K11    NaN  JoJo Maman Bébé                []   \n6MO53K00C-G11    NaN         MOSCHINO                []   \n\n                                                 family_articles  \\\nsku                                                                \nPU116E00J-A11  [{'sku': 'PU116E00J-A11', 'url_key': 'puma-cha...   \nL0423B00N-Q11  [{'sku': 'L0423B00N-Q11', 'url_key': 'lmtd-nlf...   \nPU122O09U-I11  [{'sku': 'PU122O09U-I11', 'url_key': 'puma-tee...   \nHG223F05I-A11  [{'sku': 'HG223F05I-A11', 'url_key': 'happy-gi...   \nK2023A00P-K11  [{'sku': 'K2023A00P-K11', 'url_key': 'kaporal-...   \n...                                                          ...   \nSA184B0AP-K11  [{'sku': 'SA184B0AP-K11', 'url_key': 'sanetta-...   \nSA184B0AU-Q11  [{'sku': 'SA184B0AU-Q11', 'url_key': 'sanetta-...   \nSA184B0AO-K11  [{'sku': 'SA184B0AO-K11', 'url_key': 'sanetta-...   \nJ2684B00U-K11  [{'sku': 'J2684B00U-K11', 'url_key': 'jojo-mam...   \n6MO53K00C-G11  [{'sku': '6MO53K00C-G11', 'url_key': 'moschino...   \n\n                                                           flags  is_premium  \\\nsku                                                                            \nPU116E00J-A11  [{'key': 'discountRate', 'value': '-30%', 'tra...       False   \nL0423B00N-Q11  [{'key': 'discountRate', 'value': 'Jusqu’à -30...       False   \nPU122O09U-I11  [{'key': 'discountRate', 'value': '-30%', 'tra...       False   \nHG223F05I-A11  [{'key': 'discountRate', 'value': '-25%', 'tra...       False   \nK2023A00P-K11  [{'key': 'discountRate', 'value': '-40%', 'tra...       False   \n...                                                          ...         ...   \nSA184B0AP-K11  [{'key': 'csr', 'value': 'Éco-responsabilité',...       False   \nSA184B0AU-Q11  [{'key': 'campaign', 'value': 'Prix Mini', 'tr...       False   \nSA184B0AO-K11  [{'key': 'campaign', 'value': 'Prix Mini', 'tr...       False   \nJ2684B00U-K11  [{'key': 'campaign', 'value': 'Prix Mini', 'tr...       False   \n6MO53K00C-G11  [{'key': 'campaign', 'value': 'Prix Mini', 'tr...        True   \n\n                                                           media  \\\nsku                                                                \nPU116E00J-A11  [{'path': 'PU/11/6E/00/JA/11/PU116E00J-A11@2.1...   \nL0423B00N-Q11  [{'path': 'L0/42/3B/00/NQ/11/L0423B00N-Q11@1.1...   \nPU122O09U-I11  [{'path': 'PU/12/2O/09/UI/11/PU122O09U-I11@5.j...   \nHG223F05I-A11  [{'path': 'HG/22/3F/05/IA/11/HG223F05I-A11@9.j...   \nK2023A00P-K11  [{'path': 'K2/02/3A/00/PK/11/K2023A00P-K11@2.j...   \n...                                                          ...   \nSA184B0AP-K11  [{'path': 'SA/18/4B/0A/PK/11/SA184B0AP-K11@14....   \nSA184B0AU-Q11  [{'path': 'SA/18/4B/0A/UQ/11/SA184B0AU-Q11@7.j...   \nSA184B0AO-K11  [{'path': 'SA/18/4B/0A/OK/11/SA184B0AO-K11@2.j...   \nJ2684B00U-K11  [{'path': 'J2/68/4B/00/UK/11/J2684B00U-K11@10....   \n6MO53K00C-G11  [{'path': '6M/O5/3K/00/CG/11/6MO53K00C-G11@11....   \n\n                                                           name  \\\nsku                                                               \nPU116E00J-A11  Chaussures à scratch - w.white-h.risk red-p.gold   \nL0423B00N-Q11             NLFDONNA - Pantalon classique - black   \nPU122O09U-I11                 T-shirt imprimé - beetroot purple   \nHG223F05I-A11                    TULPE  - Robe de soirée - pink   \nK2023A00P-K11                    Jeans Skinny - dark blue denim   \n...                                                         ...   \nSA184B0AP-K11               OVERALL BABY - Pyjama - nordic blue   \nSA184B0AU-Q11               OVERALL BABY - Pyjama - super black   \nSA184B0AO-K11                    OVERALL BABY - Pyjama - karmin   \nJ2684B00U-K11    FOOTLESS SLEEPSUIT BABY 2 PACK - Pyjama - blue   \n6MO53K00C-G11                     GIFT BOX - Pyjama - poppy red   \n\n               price.has_different_original_prices  \\\nsku                                                  \nPU116E00J-A11                                False   \nL0423B00N-Q11                                False   \nPU122O09U-I11                                False   \nHG223F05I-A11                                False   \nK2023A00P-K11                                False   \n...                                            ...   \nSA184B0AP-K11                                False   \nSA184B0AU-Q11                                False   \nSA184B0AO-K11                                False   \nJ2684B00U-K11                                False   \n6MO53K00C-G11                                False   \n\n               price.has_different_prices  \\\nsku                                         \nPU116E00J-A11                       False   \nL0423B00N-Q11                        True   \nPU122O09U-I11                       False   \nHG223F05I-A11                       False   \nK2023A00P-K11                       False   \n...                                   ...   \nSA184B0AP-K11                       False   \nSA184B0AU-Q11                       False   \nSA184B0AO-K11                       False   \nJ2684B00U-K11                       False   \n6MO53K00C-G11                       False   \n\n               price.has_different_promotional_prices  \\\nsku                                                     \nPU116E00J-A11                                   False   \nL0423B00N-Q11                                    True   \nPU122O09U-I11                                   False   \nHG223F05I-A11                                   False   \nK2023A00P-K11                                   False   \n...                                               ...   \nSA184B0AP-K11                                   False   \nSA184B0AU-Q11                                   False   \nSA184B0AO-K11                                   False   \nJ2684B00U-K11                                   False   \n6MO53K00C-G11                                   False   \n\n               price.has_discount_on_selected_sizes_only price.original  \\\nsku                                                                       \nPU116E00J-A11                                      False        50,00 €   \nL0423B00N-Q11                                      False        32,95 €   \nPU122O09U-I11                                      False        15,00 €   \nHG223F05I-A11                                      False        39,95 €   \nK2023A00P-K11                                      False        48,95 €   \n...                                                  ...            ...   \nSA184B0AP-K11                                      False        26,95 €   \nSA184B0AU-Q11                                      False        29,95 €   \nSA184B0AO-K11                                      False        23,95 €   \nJ2684B00U-K11                                      False        39,95 €   \n6MO53K00C-G11                                      False        75,00 €   \n\n              price.promotional product_group  \\\nsku                                             \nPU116E00J-A11           35,00 €          shoe   \nL0423B00N-Q11           23,05 €      clothing   \nPU122O09U-I11           10,50 €      clothing   \nHG223F05I-A11           29,95 €      clothing   \nK2023A00P-K11           29,55 €      clothing   \n...                         ...           ...   \nSA184B0AP-K11           26,95 €     nightwear   \nSA184B0AU-Q11           29,95 €     nightwear   \nSA184B0AO-K11           23,95 €     nightwear   \nJ2684B00U-K11           39,95 €     nightwear   \n6MO53K00C-G11           75,00 €     nightwear   \n\n                                                        sizes  \\\nsku                                                             \nPU116E00J-A11  [27.5, 28, 28.5, 29, 31, 32, 33, 34, 34.5, 35]   \nL0423B00N-Q11             [10a, 11a, 12a, 13a, 14a, 15a, 16a]   \nPU122O09U-I11         [2a, 3a, 4a, 5a, 6a, 8a, 10a, 12a, 14a]   \nHG223F05I-A11                              [8a, 9a, 10a, 11a]   \nK2023A00P-K11                            [10a, 12a, 14a, 16a]   \n...                                                       ...   \nSA184B0AP-K11                                            [1m]   \nSA184B0AU-Q11                                       [9m, 18m]   \nSA184B0AO-K11                                   [2a, 9m, 18m]   \nJ2684B00U-K11                                          [0-3m]   \n6MO53K00C-G11                                         [9-12m]   \n\n                                                         url_key  \nsku                                                               \nPU116E00J-A11  puma-chaussures-a-scratch-wwhite-hrisk-red-pgo...  \nL0423B00N-Q11  lmtd-nlfdonna-bootcut-pant-pantalon-classique-...  \nPU122O09U-I11  puma-tee-girls-t-shirt-imprime-beetroot-purple...  \nHG223F05I-A11  happy-girls-tulpe-robe-de-soiree-pink-hg223f05...  \nK2023A00P-K11  kaporal-jeans-skinny-dark-blue-denim-k2023a00p...  \n...                                                          ...  \nSA184B0AP-K11  sanetta-overall-baby-pyjama-nordic-blue-sa184b...  \nSA184B0AU-Q11  sanetta-overall-baby-pyjama-super-black-sa184b...  \nSA184B0AO-K11   sanetta-overall-baby-pyjama-karmin-sa184b0ao-k11  \nJ2684B00U-K11  jojo-maman-bebe-footless-sleepsuit-baby-2-pack...  \n6MO53K00C-G11             moschino-gift-box-pyjama-6mo53k00c-g11  \n\n[26292 rows x 17 columns]",
      "text/html": "<div>\n<style scoped>\n    .dataframe tbody tr th:only-of-type {\n        vertical-align: middle;\n    }\n\n    .dataframe tbody tr th {\n        vertical-align: top;\n    }\n\n    .dataframe thead th {\n        text-align: right;\n    }\n</style>\n<table border=\"1\" class=\"dataframe\">\n  <thead>\n    <tr style=\"text-align: right;\">\n      <th></th>\n      <th>amount</th>\n      <th>brand_name</th>\n      <th>delivery_promises</th>\n      <th>family_articles</th>\n      <th>flags</th>\n      <th>is_premium</th>\n      <th>media</th>\n      <th>name</th>\n      <th>price.has_different_original_prices</th>\n      <th>price.has_different_prices</th>\n      <th>price.has_different_promotional_prices</th>\n      <th>price.has_discount_on_selected_sizes_only</th>\n      <th>price.original</th>\n      <th>price.promotional</th>\n      <th>product_group</th>\n      <th>sizes</th>\n      <th>url_key</th>\n    </tr>\n    <tr>\n      <th>sku</th>\n      <th></th>\n      <th></th>\n      <th></th>\n      <th></th>\n      <th></th>\n      <th></th>\n      <th></th>\n      <th></th>\n      <th></th>\n      <th></th>\n      <th></th>\n      <th></th>\n      <th></th>\n      <th></th>\n      <th></th>\n      <th></th>\n      <th></th>\n    </tr>\n  </thead>\n  <tbody>\n    <tr>\n      <th>PU116E00J-A11</th>\n      <td>NaN</td>\n      <td>Puma</td>\n      <td>[]</td>\n      <td>[{'sku': 'PU116E00J-A11', 'url_key': 'puma-cha...</td>\n      <td>[{'key': 'discountRate', 'value': '-30%', 'tra...</td>\n      <td>False</td>\n      <td>[{'path': 'PU/11/6E/00/JA/11/PU116E00J-A11@2.1...</td>\n      <td>Chaussures à scratch - w.white-h.risk red-p.gold</td>\n      <td>False</td>\n      <td>False</td>\n      <td>False</td>\n      <td>False</td>\n      <td>50,00 €</td>\n      <td>35,00 €</td>\n      <td>shoe</td>\n      <td>[27.5, 28, 28.5, 29, 31, 32, 33, 34, 34.5, 35]</td>\n      <td>puma-chaussures-a-scratch-wwhite-hrisk-red-pgo...</td>\n    </tr>\n    <tr>\n      <th>L0423B00N-Q11</th>\n      <td>NaN</td>\n      <td>LMTD</td>\n      <td>[]</td>\n      <td>[{'sku': 'L0423B00N-Q11', 'url_key': 'lmtd-nlf...</td>\n      <td>[{'key': 'discountRate', 'value': 'Jusqu’à -30...</td>\n      <td>False</td>\n      <td>[{'path': 'L0/42/3B/00/NQ/11/L0423B00N-Q11@1.1...</td>\n      <td>NLFDONNA - Pantalon classique - black</td>\n      <td>False</td>\n      <td>True</td>\n      <td>True</td>\n      <td>False</td>\n      <td>32,95 €</td>\n      <td>23,05 €</td>\n      <td>clothing</td>\n      <td>[10a, 11a, 12a, 13a, 14a, 15a, 16a]</td>\n      <td>lmtd-nlfdonna-bootcut-pant-pantalon-classique-...</td>\n    </tr>\n    <tr>\n      <th>PU122O09U-I11</th>\n      <td>NaN</td>\n      <td>Puma</td>\n      <td>[]</td>\n      <td>[{'sku': 'PU122O09U-I11', 'url_key': 'puma-tee...</td>\n      <td>[{'key': 'discountRate', 'value': '-30%', 'tra...</td>\n      <td>False</td>\n      <td>[{'path': 'PU/12/2O/09/UI/11/PU122O09U-I11@5.j...</td>\n      <td>T-shirt imprimé - beetroot purple</td>\n      <td>False</td>\n      <td>False</td>\n      <td>False</td>\n      <td>False</td>\n      <td>15,00 €</td>\n      <td>10,50 €</td>\n      <td>clothing</td>\n      <td>[2a, 3a, 4a, 5a, 6a, 8a, 10a, 12a, 14a]</td>\n      <td>puma-tee-girls-t-shirt-imprime-beetroot-purple...</td>\n    </tr>\n    <tr>\n      <th>HG223F05I-A11</th>\n      <td>NaN</td>\n      <td>happy girls</td>\n      <td>[]</td>\n      <td>[{'sku': 'HG223F05I-A11', 'url_key': 'happy-gi...</td>\n      <td>[{'key': 'discountRate', 'value': '-25%', 'tra...</td>\n      <td>False</td>\n      <td>[{'path': 'HG/22/3F/05/IA/11/HG223F05I-A11@9.j...</td>\n      <td>TULPE  - Robe de soirée - pink</td>\n      <td>False</td>\n      <td>False</td>\n      <td>False</td>\n      <td>False</td>\n      <td>39,95 €</td>\n      <td>29,95 €</td>\n      <td>clothing</td>\n      <td>[8a, 9a, 10a, 11a]</td>\n      <td>happy-girls-tulpe-robe-de-soiree-pink-hg223f05...</td>\n    </tr>\n    <tr>\n      <th>K2023A00P-K11</th>\n      <td>NaN</td>\n      <td>Kaporal</td>\n      <td>[]</td>\n      <td>[{'sku': 'K2023A00P-K11', 'url_key': 'kaporal-...</td>\n      <td>[{'key': 'discountRate', 'value': '-40%', 'tra...</td>\n      <td>False</td>\n      <td>[{'path': 'K2/02/3A/00/PK/11/K2023A00P-K11@2.j...</td>\n      <td>Jeans Skinny - dark blue denim</td>\n      <td>False</td>\n      <td>False</td>\n      <td>False</td>\n      <td>False</td>\n      <td>48,95 €</td>\n      <td>29,55 €</td>\n      <td>clothing</td>\n      <td>[10a, 12a, 14a, 16a]</td>\n      <td>kaporal-jeans-skinny-dark-blue-denim-k2023a00p...</td>\n    </tr>\n    <tr>\n      <th>...</th>\n      <td>...</td>\n      <td>...</td>\n      <td>...</td>\n      <td>...</td>\n      <td>...</td>\n      <td>...</td>\n      <td>...</td>\n      <td>...</td>\n      <td>...</td>\n      <td>...</td>\n      <td>...</td>\n      <td>...</td>\n      <td>...</td>\n      <td>...</td>\n      <td>...</td>\n      <td>...</td>\n      <td>...</td>\n    </tr>\n    <tr>\n      <th>SA184B0AP-K11</th>\n      <td>NaN</td>\n      <td>Sanetta</td>\n      <td>[]</td>\n      <td>[{'sku': 'SA184B0AP-K11', 'url_key': 'sanetta-...</td>\n      <td>[{'key': 'csr', 'value': 'Éco-responsabilité',...</td>\n      <td>False</td>\n      <td>[{'path': 'SA/18/4B/0A/PK/11/SA184B0AP-K11@14....</td>\n      <td>OVERALL BABY - Pyjama - nordic blue</td>\n      <td>False</td>\n      <td>False</td>\n      <td>False</td>\n      <td>False</td>\n      <td>26,95 €</td>\n      <td>26,95 €</td>\n      <td>nightwear</td>\n      <td>[1m]</td>\n      <td>sanetta-overall-baby-pyjama-nordic-blue-sa184b...</td>\n    </tr>\n    <tr>\n      <th>SA184B0AU-Q11</th>\n      <td>NaN</td>\n      <td>Sanetta</td>\n      <td>[]</td>\n      <td>[{'sku': 'SA184B0AU-Q11', 'url_key': 'sanetta-...</td>\n      <td>[{'key': 'campaign', 'value': 'Prix Mini', 'tr...</td>\n      <td>False</td>\n      <td>[{'path': 'SA/18/4B/0A/UQ/11/SA184B0AU-Q11@7.j...</td>\n      <td>OVERALL BABY - Pyjama - super black</td>\n      <td>False</td>\n      <td>False</td>\n      <td>False</td>\n      <td>False</td>\n      <td>29,95 €</td>\n      <td>29,95 €</td>\n      <td>nightwear</td>\n      <td>[9m, 18m]</td>\n      <td>sanetta-overall-baby-pyjama-super-black-sa184b...</td>\n    </tr>\n    <tr>\n      <th>SA184B0AO-K11</th>\n      <td>NaN</td>\n      <td>Sanetta</td>\n      <td>[]</td>\n      <td>[{'sku': 'SA184B0AO-K11', 'url_key': 'sanetta-...</td>\n      <td>[{'key': 'campaign', 'value': 'Prix Mini', 'tr...</td>\n      <td>False</td>\n      <td>[{'path': 'SA/18/4B/0A/OK/11/SA184B0AO-K11@2.j...</td>\n      <td>OVERALL BABY - Pyjama - karmin</td>\n      <td>False</td>\n      <td>False</td>\n      <td>False</td>\n      <td>False</td>\n      <td>23,95 €</td>\n      <td>23,95 €</td>\n      <td>nightwear</td>\n      <td>[2a, 9m, 18m]</td>\n      <td>sanetta-overall-baby-pyjama-karmin-sa184b0ao-k11</td>\n    </tr>\n    <tr>\n      <th>J2684B00U-K11</th>\n      <td>NaN</td>\n      <td>JoJo Maman Bébé</td>\n      <td>[]</td>\n      <td>[{'sku': 'J2684B00U-K11', 'url_key': 'jojo-mam...</td>\n      <td>[{'key': 'campaign', 'value': 'Prix Mini', 'tr...</td>\n      <td>False</td>\n      <td>[{'path': 'J2/68/4B/00/UK/11/J2684B00U-K11@10....</td>\n      <td>FOOTLESS SLEEPSUIT BABY 2 PACK - Pyjama - blue</td>\n      <td>False</td>\n      <td>False</td>\n      <td>False</td>\n      <td>False</td>\n      <td>39,95 €</td>\n      <td>39,95 €</td>\n      <td>nightwear</td>\n      <td>[0-3m]</td>\n      <td>jojo-maman-bebe-footless-sleepsuit-baby-2-pack...</td>\n    </tr>\n    <tr>\n      <th>6MO53K00C-G11</th>\n      <td>NaN</td>\n      <td>MOSCHINO</td>\n      <td>[]</td>\n      <td>[{'sku': '6MO53K00C-G11', 'url_key': 'moschino...</td>\n      <td>[{'key': 'campaign', 'value': 'Prix Mini', 'tr...</td>\n      <td>True</td>\n      <td>[{'path': '6M/O5/3K/00/CG/11/6MO53K00C-G11@11....</td>\n      <td>GIFT BOX - Pyjama - poppy red</td>\n      <td>False</td>\n      <td>False</td>\n      <td>False</td>\n      <td>False</td>\n      <td>75,00 €</td>\n      <td>75,00 €</td>\n      <td>nightwear</td>\n      <td>[9-12m]</td>\n      <td>moschino-gift-box-pyjama-6mo53k00c-g11</td>\n    </tr>\n  </tbody>\n</table>\n<p>26292 rows × 17 columns</p>\n</div>"
     },
     "metadata": {},
     "execution_count": 11
    }
   ],
   "source": [
    "# Get the total number of pages\n",
    "total_pages=results['pagination']['page_count']\n",
    "\n",
    "# Your code\n",
    "df = pd.DataFrame()\n",
    "\n",
    "for i in range(total_pages):\n",
    "    k=84*i\n",
    "    url=f'https://www.zalando.fr/api/catalog/articles?categories=promo-enfant&limit=84&offset={k}&sort=sale'\n",
    "    headers = {'User-Agent':'Mozilla/5.0 (Macintosh; Intel Mac OS X 10_15_4) AppleWebKit/537.36 (KHTML, like Gecko) Chrome/81.0.4044.138 Safari/537.36'}\n",
    "    response = requests.get(url, headers = headers)\n",
    "    results = response.json()\n",
    "    flattened_data = json_normalize(results)\n",
    "    flattened_data1 = json_normalize(flattened_data.articles[0])\n",
    "    try:\n",
    "        flattened_data1=flattened_data1.set_index('sku')\n",
    "        df = df.append(flattened_data1, sort = True)\n",
    "    except:\n",
    "        pass\n",
    "\n",
    "df"
   ]
  },
  {
   "cell_type": "markdown",
   "metadata": {},
   "source": [
    "#### Display the trending brand in DataFrame"
   ]
  },
  {
   "cell_type": "code",
   "execution_count": 12,
   "metadata": {},
   "outputs": [
    {
     "output_type": "execute_result",
     "data": {
      "text/plain": "'Name it'"
     },
     "metadata": {},
     "execution_count": 12
    }
   ],
   "source": [
    "df.brand_name.value_counts().index[0]"
   ]
  },
  {
   "cell_type": "markdown",
   "metadata": {},
   "source": [
    "#### Display the brand with maximal total discount (sum of discounts on all goods)"
   ]
  },
  {
   "cell_type": "code",
   "execution_count": 13,
   "metadata": {},
   "outputs": [],
   "source": [
    "#Our data is still text. Convert prices into numbers:\n",
    "df['price.original']=df['price.original'].str.extract('(\\d*,\\d*)')\n",
    "df['price.promotional']=df['price.promotional'].str.extract('(\\d*,\\d*)')\n",
    "\n",
    "df['price.original'] = [x.replace(',', '.') for x in df['price.original']]\n",
    "df['price.promotional'] = [x.replace(',', '.') for x in df['price.promotional']]"
   ]
  },
  {
   "cell_type": "code",
   "execution_count": 14,
   "metadata": {},
   "outputs": [],
   "source": [
    "df['discount_amount']=df['price.original'].astype(float)-df['price.promotional'].astype(float)\n",
    "df1=df.copy()"
   ]
  },
  {
   "cell_type": "code",
   "execution_count": 15,
   "metadata": {},
   "outputs": [],
   "source": [
    "total_disc=df1.groupby(['brand_name']).sum().discount_amount"
   ]
  },
  {
   "cell_type": "code",
   "execution_count": 19,
   "metadata": {},
   "outputs": [
    {
     "output_type": "execute_result",
     "data": {
      "text/plain": "'Petrol Industries'"
     },
     "metadata": {},
     "execution_count": 19
    }
   ],
   "source": [
    "total_disc.sort_values(ascending=False).index[0]"
   ]
  },
  {
   "cell_type": "markdown",
   "metadata": {},
   "source": [
    "#### Display the brands without discount at all"
   ]
  },
  {
   "cell_type": "code",
   "execution_count": 17,
   "metadata": {},
   "outputs": [
    {
     "output_type": "execute_result",
     "data": {
      "text/plain": "brand_name\nASICS SportStyle           0.0\nAngel & Rocket             0.0\nBe Only                    0.0\nBelstaff                   0.0\nBikkembergs Kids           0.0\nBogs                       0.0\nBomboogie                  0.0\nBullboxer                  0.0\nChiemsee                   0.0\nChipmunks                  0.0\nCraft                      0.0\nDeuter                     0.0\nFabrizio                   0.0\nFinger in the nose         0.0\nFjällräven                 0.0\nHatley                     0.0\nHip                        0.0\nIpanema                    0.0\nJAKO                       0.0\nKG by Kurt Geiger          0.0\nLa Queue du Chat           0.0\nLowa                       0.0\nMAÁ                        0.0\nMP Denmark                 0.0\nMarc O'Polo                0.0\nMerrell                    0.0\nMissoni Kids               0.0\nModern Native              0.0\nNike Golf                  0.0\nNordic coast company       0.0\nOuterstuff                 0.0\nOutfit Kids                0.0\nPatagonia                  0.0\nPinocchio                  0.0\nPlay Up                    0.0\nPuma Golf                  0.0\nReebok Classic             0.0\nRegatta                    0.0\nScotch R'Belle             0.0\nSisley                     0.0\nSonia Rykiel               0.0\nTHE ANIMALS OBSERVATORY    0.0\nTHE WHITE BRAND            0.0\nTOMS                       0.0\nTen Cate                   0.0\nTeva                       0.0\nUmbro                      0.0\nUnauthorized               0.0\nVictoria Shoes             0.0\nVilebrequin                0.0\nVoile Blanche              0.0\nXTI                        0.0\nZadig & Voltaire           0.0\nadidas Golf                0.0\ncamano                     0.0\nmtng                       0.0\nName: discount_amount, dtype: float64"
     },
     "metadata": {},
     "execution_count": 17
    }
   ],
   "source": [
    "total_disc[total_disc==0]"
   ]
  },
  {
   "cell_type": "code",
   "execution_count": null,
   "metadata": {},
   "outputs": [],
   "source": []
  }
 ],
 "metadata": {
  "kernelspec": {
   "display_name": "Python 3.7.6 64-bit ('anaconda3': virtualenv)",
   "language": "python",
   "name": "python37664bitanaconda3virtualenv0697af1ee67a458e9253591065064715"
  },
  "language_info": {
   "codemirror_mode": {
    "name": "ipython",
    "version": 3
   },
   "file_extension": ".py",
   "mimetype": "text/x-python",
   "name": "python",
   "nbconvert_exporter": "python",
   "pygments_lexer": "ipython3",
   "version": "3.7.6-final"
  }
 },
 "nbformat": 4,
 "nbformat_minor": 2
}