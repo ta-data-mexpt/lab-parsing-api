{
 "cells": [
  {
   "cell_type": "markdown",
   "metadata": {},
   "source": [
    "# Parsing APIs Example "
   ]
  },
  {
   "cell_type": "markdown",
   "metadata": {},
   "source": [
    "## Intro\n",
    "\n",
    "Now we will take a look on a real data. When you parse data from web you will often meet API based web-pages. \n",
    "\n",
    "For example [zalando.fr](https://www.zalando.fr/accueil-homme/) is API based web-page. \n",
    "\n",
    "In this guided lab you will learn how to obtain the links from webpages and extract the data. Read through this doc, execute the cells in order and make sure you understand the explanations. \n",
    "\n",
    "*Note: This guided lab uses Google Chrome. Other browsers like Safari and Firefox have similar tools for developers but they work differently. To save your time in following this lab, it is strongly recommended that you install and use Google Chrome.*"
   ]
  },
  {
   "cell_type": "markdown",
   "metadata": {},
   "source": [
    "## Obtaining the link\n",
    "\n",
    "Zalando is discount e-store where you can buy clothes and accesories with discount. When we go to the web-page, we can choose different sections. First the general process will be shown using [Children section](https://www.zalando.fr/accueil-enfant/) as example.\n",
    "\n",
    "Here we will parse data about promotions only. Therefore, final output will be the DataFrame with all the goods under discount.\n",
    "\n",
    "[![Image from Gyazo](https://i.gyazo.com/fa4874d8e81c7570273bbfb853d66308.png)](https://gyazo.com/fa4874d8e81c7570273bbfb853d66308)\n",
    "\n",
    "\n",
    "We go to Promos page. Right click of mouse shows us a list of actions possible, from which we select Inspect.\n",
    "\n",
    "<img src='https://i.gyazo.com/bccbd11d69c9040dc98758d443e32052.png' width=\"400\">\n",
    "\n",
    "\n",
    "You will see the menu dropdown on the right side or on the bottom of the window. There you should click on Network:\n",
    "\n",
    "\n",
    "[![Image from Gyazo](https://i.gyazo.com/f7e0db81cbfee67694183d1a7640bf81.png)](https://gyazo.com/f7e0db81cbfee67694183d1a7640bf81)"
   ]
  },
  {
   "cell_type": "markdown",
   "metadata": {},
   "source": [
    "Right after the developer part will change showing the files behind the page. In order to obtain only useful files we select the following settings:\n",
    "1. Preserve Log\n",
    "2. Select XHR files.\n",
    "\n",
    "[![Image from Gyazo](https://i.gyazo.com/9a899d4441d9d93e795f79747f1e47d5.png)](https://gyazo.com/9a899d4441d9d93e795f79747f1e47d5)\n",
    "\n",
    "In order to obtain some files we need to scrool down and go forward to second page. \n",
    "\n",
    "[![Image from Gyazo](https://i.gyazo.com/0956eb3d5125075a236c9a439c7749c7.png)](https://gyazo.com/0956eb3d5125075a236c9a439c7749c7)\n",
    "\n",
    "In the Network panel you can see the following files being uploaded. All the data on the web-page is uploaded from the json file, which is one of the following. It is important to understand which file contains what kind of information. \n",
    "\n",
    "<a href=\"https://gyazo.com/cf97a655869f0b22df0ada1cb2a41c3c\"><img src=\"https://i.gyazo.com/cf97a655869f0b22df0ada1cb2a41c3c.png\" alt=\"Image from Gyazo\" width=\"724.8\"/></a>\n",
    "\n",
    "When you find what kind of information you need for the data to be uploaded you just test it. Here we need the article... file:\n",
    "\n",
    "<a href=\"https://gyazo.com/78b35bf492994b3f35c0564a21da202a\"><img src=\"https://i.gyazo.com/78b35bf492994b3f35c0564a21da202a.png\" alt=\"Image from Gyazo\" width=\"727.2\"/></a>\n",
    "\n",
    "When we test the link in Chrome inkognito mode we obtain the proper json file:\n",
    "\n",
    "\n",
    "<a href=\"https://gyazo.com/b60453fa98454fa29771c731a5174443\"><img src=\"https://i.gyazo.com/b60453fa98454fa29771c731a5174443.png\" alt=\"Image from Gyazo\" width=\"1530.4\"/></a>"
   ]
  },
  {
   "cell_type": "markdown",
   "metadata": {},
   "source": [
    "In order to change the objects in the json file (kind of pagination), you need to change the offset (the number of the first element on the page). in fact, if you take a look on the link, it is easy to unerstand the structure of the link.\n",
    "\n",
    "# Reading the data\n",
    "\n",
    "Now the party rocks! When we know how can we obtain the data, it is not a problem to obtain the whole database with all the data from the web-page.\n",
    "In this lab you will collect your database of Zalando products. You select which goods you want to track. You can define as many filters to your data as you want. Just make sure that the data represents the filters.\n",
    "\n",
    "\n"
   ]
  },
  {
   "cell_type": "code",
   "execution_count": 1,
   "metadata": {},
   "outputs": [],
   "source": [
    "import json\n",
    "import pandas as pd\n",
    "from pandas.io.json import json_normalize\n",
    "from urllib.request import urlopen\n"
   ]
  },
  {
   "cell_type": "code",
   "execution_count": 2,
   "metadata": {},
   "outputs": [
    {
     "output_type": "execute_result",
     "data": {
      "text/plain": [
       "'https://www.zalando.fr/api/catalog/articles?categories=promo-enfant=84&offset=84&sort=salet&limi'"
      ]
     },
     "metadata": {},
     "execution_count": 2
    }
   ],
   "source": [
    "# Paste the url you obtained for your data\n",
    "url='https://www.zalando.fr/api/catalog/articles?categories=promo-enfant=84&offset=84&sort=salet&limi'\n",
    "url"
   ]
  },
  {
   "cell_type": "markdown",
   "metadata": {},
   "source": [
    "#### Collect first 84 object of the of the data (1st page)\n",
    "\n",
    "Your output should be a Pandas DataFrame of goods. Each row should contain only text or numbers, having *family_articles, flags, media* and *sizes* remaining lists (they are exceptions)."
   ]
  },
  {
   "cell_type": "code",
   "execution_count": 3,
   "metadata": {},
   "outputs": [
    {
     "output_type": "execute_result",
     "data": {
      "text/plain": [
       "{'total_count': 0,\n",
       " 'pagination': {'page_count': 1, 'current_page': 2, 'per_page': 84},\n",
       " 'sort': 'popularity',\n",
       " 'articles': [],\n",
       " 'query_path': '/promo-enfant=84/?p=2',\n",
       " 'previous_page_path': '/promo-enfant=84/',\n",
       " 'query_params': {'categories': 'promo-enfant=84',\n",
       "  'sort': 'popularity',\n",
       "  'offset': '84',\n",
       "  'limit': '84'},\n",
       " 'page_gender': 'unisex',\n",
       " 'premium': False,\n",
       " 'appliedSort': None,\n",
       " 'filters': [],\n",
       " 'total_article_count': 0,\n",
       " 'assortment_entry_points': [],\n",
       " 'plusStatus': 'unknown',\n",
       " 'categoryTree': [],\n",
       " 'sortingKeys': [{'type': 'popularity', 'dir': 'desc', 'label': 'Préférés'},\n",
       "  {'type': 'activation_date', 'dir': 'desc', 'label': 'Nouveautés'},\n",
       "  {'type': 'price_asc', 'dir': 'asc', 'label': 'Prix croissant'},\n",
       "  {'type': 'price_desc', 'dir': 'desc', 'label': 'Prix décroissant'},\n",
       "  {'type': 'sale', 'dir': 'desc', 'label': 'Promos'}],\n",
       " 'breadcrumbs': [],\n",
       " 'querySemantics': {'positive_filters': [{'key': 'categories',\n",
       "    'url_key': 'category',\n",
       "    'kind': 'values',\n",
       "    'values': [{'key': 'promo-enfant=84',\n",
       "      'url_key': 'promo-enfant=84',\n",
       "      'label': '',\n",
       "      'seo_label': '',\n",
       "      'reset_url': '/'}]}],\n",
       "  'negative_filters': [],\n",
       "  'reset_query_url': '/promo-enfant=84/',\n",
       "  'reset_url': '/promo-enfant=84/',\n",
       "  'app_url': '?urlKey=promo-enfant=84&order=popularity&appdomainId=11',\n",
       "  'url': '/promo-enfant=84/',\n",
       "  'positive_hidden_filters': []},\n",
       " 'articlesToShow': 84,\n",
       " 'octopusTests': [],\n",
       " 'locale': 'fr-FR',\n",
       " 'isLoggedIn': False,\n",
       " 'notification': None,\n",
       " 'resetFilters': {'categories': [{'key': 'promo-enfant=84',\n",
       "    'url_key': 'promo-enfant=84',\n",
       "    'label': '',\n",
       "    'seo_label': '',\n",
       "    'reset_url': '/'}]},\n",
       " 'selectedFilters': {'categories': ['promo-enfant=84']},\n",
       " 'ssrArticleCount': 32,\n",
       " 'feedbackId': '5c112594708a306b9e611805',\n",
       " 'variants': {'premiumCatalog': False,\n",
       "  'myBrandsFilter': True,\n",
       "  'hideCategories': False,\n",
       "  'mobileLightFilters': True,\n",
       "  'truncatedCount': False,\n",
       "  'blackFridayGradientEnabled': False,\n",
       "  'cyberweekGradientEnabled': False,\n",
       "  'topTeaserPlaceholder': True,\n",
       "  'salesBannerCountdown': False,\n",
       "  'lazyArticleImages': False,\n",
       "  'useImg01': True},\n",
       " 'contentPositions': {'in-cat-teaser': 12,\n",
       "  'upper-in-cat-teaser': 5,\n",
       "  'entry-point-teasers': [7, 14, 20, 26],\n",
       "  'size-dialog': 18,\n",
       "  'outfits': [5, 23, 35],\n",
       "  'outfits-mobile': [5, 23, 28, 35],\n",
       "  'style-profile-follow-brands-banner': 6,\n",
       "  'style-profile-follow-brands-banner-mobile': 4,\n",
       "  'ingrid-teaser': 6,\n",
       "  'ingrid-mobile-teaser': 4},\n",
       " 'followBrandsBannerEnabled': False,\n",
       " 'prideEnabled': False,\n",
       " 'lazyArticleImages': False,\n",
       " 'hideSearchTerm': False,\n",
       " 'iconPaths': {'filters': {'standard_delivery_filter': 'icons/truck.svg',\n",
       "   'fast_delivery_filter': 'icons/truck-fast.svg',\n",
       "   'zalando_plus': 'icons/plus-short-1.svg'},\n",
       "  'mobileFilters': {'standard_delivery_filter': 'icons/truck.svg',\n",
       "   'fast_delivery_filter': 'icons/truck-fast.svg',\n",
       "   'zalando_plus': 'icons/plus-short-1.svg'},\n",
       "  'flags': {'slow_delivery_flag': 'icons/clock.svg',\n",
       "   'fast_delivery_flag': 'icons/truck-fast-orange-3.svg',\n",
       "   'plus_delivery_flag': 'icons/plus-short-1.svg',\n",
       "   'zalando_plus': 'icons/zalando-plus.svg'}},\n",
       " 'articleFlagPresetOverrides': {},\n",
       " 'teaser': None,\n",
       " 'inCatalogTeaser': None,\n",
       " 'upperInCatTeaser': None,\n",
       " 'inGridTeaser': None,\n",
       " 'wishlist': None,\n",
       " 'pills': None,\n",
       " 'sizeOnboardingDialog': None}"
      ]
     },
     "metadata": {},
     "execution_count": 3
    }
   ],
   "source": [
    "# Your code\n",
    "response = urlopen(url)\n",
    "results = json.load(response)\n",
    "results"
   ]
  },
  {
   "cell_type": "code",
   "execution_count": 7,
   "metadata": {},
   "outputs": [
    {
     "output_type": "stream",
     "name": "stdout",
     "text": [
      "   total_count        sort articles             query_path previous_page_path  \\\n0            0  popularity       []  /promo-enfant=84/?p=2  /promo-enfant=84/   \n\n  page_gender  premium appliedSort filters  total_article_count  ...  \\\n0      unisex    False        None      []                    0  ...   \n\n  iconPaths.filters.standard_delivery_filter  \\\n0                            icons/truck.svg   \n\n  iconPaths.filters.fast_delivery_filter iconPaths.filters.zalando_plus  \\\n0                   icons/truck-fast.svg         icons/plus-short-1.svg   \n\n  iconPaths.mobileFilters.standard_delivery_filter  \\\n0                                  icons/truck.svg   \n\n  iconPaths.mobileFilters.fast_delivery_filter  \\\n0                         icons/truck-fast.svg   \n\n   iconPaths.mobileFilters.zalando_plus iconPaths.flags.slow_delivery_flag  \\\n0                icons/plus-short-1.svg                    icons/clock.svg   \n\n  iconPaths.flags.fast_delivery_flag  iconPaths.flags.plus_delivery_flag  \\\n0      icons/truck-fast-orange-3.svg              icons/plus-short-1.svg   \n\n  iconPaths.flags.zalando_plus  \n0       icons/zalando-plus.svg  \n\n[1 rows x 80 columns]\n"
     ]
    }
   ],
   "source": [
    "flattened_data = pd.json_normalize(results)\n",
    "print(flattened_data)\n"
   ]
  },
  {
   "cell_type": "code",
   "execution_count": 9,
   "metadata": {},
   "outputs": [
    {
     "output_type": "execute_result",
     "data": {
      "text/plain": [
       "Empty DataFrame\n",
       "Columns: []\n",
       "Index: []"
      ],
      "text/html": "<div>\n<style scoped>\n    .dataframe tbody tr th:only-of-type {\n        vertical-align: middle;\n    }\n\n    .dataframe tbody tr th {\n        vertical-align: top;\n    }\n\n    .dataframe thead th {\n        text-align: right;\n    }\n</style>\n<table border=\"1\" class=\"dataframe\">\n  <thead>\n    <tr style=\"text-align: right;\">\n      <th></th>\n    </tr>\n  </thead>\n  <tbody>\n  </tbody>\n</table>\n</div>"
     },
     "metadata": {},
     "execution_count": 9
    }
   ],
   "source": [
    "flattened_data1 = pd.json_normalize(flattened_data.articles[0])\n",
    "flattened_data1"
   ]
  },
  {
   "cell_type": "markdown",
   "metadata": {},
   "source": [
    "#### Collect all the objects from selected filters. Total number of pages can be found in the same json. Use *sku* column as index.\n",
    "\n",
    "Your output should be a Pandas DataFrame of goods. Each row should contain only text or numbers, having family_articles, flags, media and sizes remaining lists (they are exceptions)."
   ]
  },
  {
   "cell_type": "code",
   "execution_count": 11,
   "metadata": {},
   "outputs": [
    {
     "output_type": "execute_result",
     "data": {
      "text/plain": [
       "                                                            name  \\\n",
       "sku                                                                \n",
       "NI114D0CS-A11            COURT BOROUGH  - Baskets basses - white   \n",
       "M9123L0BG-A11               CACHITO8 - Veste d'hiver - cremeweiß   \n",
       "LE226G005-A11              BATWING TEE - T-shirt imprimé - white   \n",
       "TO184A02M-K11                   2 PACK  - T-shirt basique - blue   \n",
       "JAN24B004-Q11                             Pantalon cargo - black   \n",
       "...                                                          ...   \n",
       "10K43A06G-Q11  UNISEX - Chaussures d'entraînement et de fitne...   \n",
       "AD116D0I9-A11  SUPERSTAR CRIB - Chaussons pour bébé - footwea...   \n",
       "TO124G06E-A11  BOYS BASIC  - T-shirt à manches longues - brig...   \n",
       "LE313D02N-C11                      TENSY - Baskets basses - grau   \n",
       "PU114G004-K11  DIVECAT V2 INJEX  - Sandales - star sapphire/d...   \n",
       "\n",
       "                                                           sizes  \\\n",
       "sku                                                                \n",
       "NI114D0CS-A11  [27.5, 28, 28.5, 29.5, 30, 31, 31.5, 32, 33, 3...   \n",
       "M9123L0BG-A11                          [6a, 8a, 9a, 10a, 11-12a]   \n",
       "LE226G005-A11           [2a, 3a, 4a, 5a, 8a, 10a, 12a, 14a, 16a]   \n",
       "TO184A02M-K11                    [8-10a, 10-12a, 12-14a, 14-16a]   \n",
       "JAN24B004-Q11        [8a, 9a, 10a, 11a, 12a, 13a, 14a, 15a, 16a]   \n",
       "...                                                          ...   \n",
       "10K43A06G-Q11       [25, 26, 27, 28, 29, 30, 31, 32, 33, 34, 35]   \n",
       "AD116D0I9-A11                               [17, 18, 19, 20, 21]   \n",
       "TO124G06E-A11           [4a, 5a, 6a, 7a, 8a, 10a, 12a, 14a, 16a]   \n",
       "LE313D02N-C11           [26, 27, 28, 29, 30, 31, 32, 33, 34, 35]   \n",
       "PU114G004-K11                       [19, 20, 22, 23, 24, 25, 27]   \n",
       "\n",
       "                                                         url_key  \\\n",
       "sku                                                                \n",
       "NI114D0CS-A11  nike-sportswear-court-borough-baskets-basses-n...   \n",
       "M9123L0BG-A11  mango-cachito8-veste-dhiver-cremeweiss-m9123l0...   \n",
       "LE226G005-A11         levisr-t-shirt-imprime-white-le226g005-a11   \n",
       "TO184A02M-K11  tommy-hilfiger-tee-2-pack-caraco-blue-to184a02...   \n",
       "JAN24B004-Q11  jackandjones-junior-pantalon-cargo-black-jan24...   \n",
       "...                                                          ...   \n",
       "10K43A06G-Q11  kappa-unisex-chaussures-dentrainement-et-de-fi...   \n",
       "AD116D0I9-A11  adidas-originals-superstar-crib-chaussons-pour...   \n",
       "TO124G06E-A11  tommy-hilfiger-boys-basic-t-shirt-a-manches-lo...   \n",
       "LE313D02N-C11   superfit-tensy-baskets-basses-grau-le313d02n-c11   \n",
       "PU114G004-K11  puma-divecat-v2-injex-sandales-de-bain-star-sa...   \n",
       "\n",
       "                                                           media  \\\n",
       "sku                                                                \n",
       "NI114D0CS-A11  [{'path': 'spp-media-p1/0b5fec9e420b37099ccfe6...   \n",
       "M9123L0BG-A11  [{'path': 'spp-media-p1/35236b50637935189937f5...   \n",
       "LE226G005-A11  [{'path': 'spp-media-p1/8d33b25d4a1b3a718e588e...   \n",
       "TO184A02M-K11  [{'path': 'spp-media-p1/306c5fc7a0b339988ca6db...   \n",
       "JAN24B004-Q11  [{'path': 'spp-media-p1/6272154bdaec3231bf44b9...   \n",
       "...                                                          ...   \n",
       "10K43A06G-Q11  [{'path': 'spp-media-p1/c616556f29543b509b5992...   \n",
       "AD116D0I9-A11  [{'path': 'spp-media-p1/5b7935fbc63a388ead2206...   \n",
       "TO124G06E-A11  [{'path': 'spp-media-p1/b627cf03d8353fedb79042...   \n",
       "LE313D02N-C11  [{'path': 'spp-media-p1/425a3f170a66345fa30b9d...   \n",
       "PU114G004-K11  [{'path': 'spp-media-p1/8c1313dd83954b65ba6ade...   \n",
       "\n",
       "                        brand_name  is_premium family_articles  \\\n",
       "sku                                                              \n",
       "NI114D0CS-A11      Nike Sportswear       False              []   \n",
       "M9123L0BG-A11                Mango       False              []   \n",
       "LE226G005-A11              Levi's®       False              []   \n",
       "TO184A02M-K11       Tommy Hilfiger       False              []   \n",
       "JAN24B004-Q11  Jack & Jones Junior       False              []   \n",
       "...                            ...         ...             ...   \n",
       "10K43A06G-Q11                Kappa       False              []   \n",
       "AD116D0I9-A11     adidas Originals       False              []   \n",
       "TO124G06E-A11       Tommy Hilfiger       False              []   \n",
       "LE313D02N-C11             Superfit       False              []   \n",
       "PU114G004-K11                 Puma       False              []   \n",
       "\n",
       "                                                           flags  \\\n",
       "sku                                                                \n",
       "NI114D0CS-A11  [{'key': 'discountRate', 'value': 'Jusqu’à -25...   \n",
       "M9123L0BG-A11  [{'key': 'discountRate', 'value': '-67%', 'tra...   \n",
       "LE226G005-A11  [{'key': 'discountRate', 'value': '-15%', 'tra...   \n",
       "TO184A02M-K11  [{'key': 'discountRate', 'value': '-5%', 'trac...   \n",
       "JAN24B004-Q11  [{'key': 'discountRate', 'value': '-30%', 'tra...   \n",
       "...                                                          ...   \n",
       "10K43A06G-Q11  [{'key': 'discountRate', 'value': '-10%', 'tra...   \n",
       "AD116D0I9-A11  [{'key': 'discountRate', 'value': '-15%', 'tra...   \n",
       "TO124G06E-A11  [{'key': 'discountRate', 'value': '-20%', 'tra...   \n",
       "LE313D02N-C11  [{'key': 'discountRate', 'value': '-10%', 'tra...   \n",
       "PU114G004-K11  [{'key': 'discountRate', 'value': '-10%', 'tra...   \n",
       "\n",
       "              product_group delivery_promises price.original  \\\n",
       "sku                                                            \n",
       "NI114D0CS-A11          shoe                []       34,95  €   \n",
       "M9123L0BG-A11      clothing                []       59,99  €   \n",
       "LE226G005-A11      clothing                []       17,95  €   \n",
       "TO184A02M-K11      clothing                []       27,95  €   \n",
       "JAN24B004-Q11      clothing                []       49,95  €   \n",
       "...                     ...               ...            ...   \n",
       "10K43A06G-Q11          shoe                []       22,95  €   \n",
       "AD116D0I9-A11          shoe                []       31,95  €   \n",
       "TO124G06E-A11      clothing                []       19,95  €   \n",
       "LE313D02N-C11          shoe                []       49,95  €   \n",
       "PU114G004-K11          shoe                []       19,95  €   \n",
       "\n",
       "              price.promotional  price.has_different_prices  \\\n",
       "sku                                                           \n",
       "NI114D0CS-A11          26,15  €                        True   \n",
       "M9123L0BG-A11          19,99  €                       False   \n",
       "LE226G005-A11          15,25  €                        True   \n",
       "TO184A02M-K11          26,65  €                       False   \n",
       "JAN24B004-Q11          34,95  €                       False   \n",
       "...                         ...                         ...   \n",
       "10K43A06G-Q11          20,65  €                       False   \n",
       "AD116D0I9-A11          27,25  €                       False   \n",
       "TO124G06E-A11          15,95  €                        True   \n",
       "LE313D02N-C11          44,95  €                       False   \n",
       "PU114G004-K11          17,95  €                       False   \n",
       "\n",
       "               price.has_different_original_prices  \\\n",
       "sku                                                  \n",
       "NI114D0CS-A11                                False   \n",
       "M9123L0BG-A11                                False   \n",
       "LE226G005-A11                                False   \n",
       "TO184A02M-K11                                False   \n",
       "JAN24B004-Q11                                False   \n",
       "...                                            ...   \n",
       "10K43A06G-Q11                                False   \n",
       "AD116D0I9-A11                                False   \n",
       "TO124G06E-A11                                False   \n",
       "LE313D02N-C11                                False   \n",
       "PU114G004-K11                                False   \n",
       "\n",
       "               price.has_different_promotional_prices  \\\n",
       "sku                                                     \n",
       "NI114D0CS-A11                                    True   \n",
       "M9123L0BG-A11                                   False   \n",
       "LE226G005-A11                                    True   \n",
       "TO184A02M-K11                                   False   \n",
       "JAN24B004-Q11                                   False   \n",
       "...                                               ...   \n",
       "10K43A06G-Q11                                   False   \n",
       "AD116D0I9-A11                                   False   \n",
       "TO124G06E-A11                                    True   \n",
       "LE313D02N-C11                                   False   \n",
       "PU114G004-K11                                   False   \n",
       "\n",
       "               price.has_discount_on_selected_sizes_only amount  \n",
       "sku                                                              \n",
       "NI114D0CS-A11                                      False    NaN  \n",
       "M9123L0BG-A11                                      False    NaN  \n",
       "LE226G005-A11                                      False    NaN  \n",
       "TO184A02M-K11                                      False    NaN  \n",
       "JAN24B004-Q11                                      False    NaN  \n",
       "...                                                  ...    ...  \n",
       "10K43A06G-Q11                                      False    NaN  \n",
       "AD116D0I9-A11                                      False    NaN  \n",
       "TO124G06E-A11                                      False    NaN  \n",
       "LE313D02N-C11                                      False    NaN  \n",
       "PU114G004-K11                                      False    NaN  \n",
       "\n",
       "[84 rows x 17 columns]"
      ],
      "text/html": "<div>\n<style scoped>\n    .dataframe tbody tr th:only-of-type {\n        vertical-align: middle;\n    }\n\n    .dataframe tbody tr th {\n        vertical-align: top;\n    }\n\n    .dataframe thead th {\n        text-align: right;\n    }\n</style>\n<table border=\"1\" class=\"dataframe\">\n  <thead>\n    <tr style=\"text-align: right;\">\n      <th></th>\n      <th>name</th>\n      <th>sizes</th>\n      <th>url_key</th>\n      <th>media</th>\n      <th>brand_name</th>\n      <th>is_premium</th>\n      <th>family_articles</th>\n      <th>flags</th>\n      <th>product_group</th>\n      <th>delivery_promises</th>\n      <th>price.original</th>\n      <th>price.promotional</th>\n      <th>price.has_different_prices</th>\n      <th>price.has_different_original_prices</th>\n      <th>price.has_different_promotional_prices</th>\n      <th>price.has_discount_on_selected_sizes_only</th>\n      <th>amount</th>\n    </tr>\n    <tr>\n      <th>sku</th>\n      <th></th>\n      <th></th>\n      <th></th>\n      <th></th>\n      <th></th>\n      <th></th>\n      <th></th>\n      <th></th>\n      <th></th>\n      <th></th>\n      <th></th>\n      <th></th>\n      <th></th>\n      <th></th>\n      <th></th>\n      <th></th>\n      <th></th>\n    </tr>\n  </thead>\n  <tbody>\n    <tr>\n      <th>NI114D0CS-A11</th>\n      <td>COURT BOROUGH  - Baskets basses - white</td>\n      <td>[27.5, 28, 28.5, 29.5, 30, 31, 31.5, 32, 33, 3...</td>\n      <td>nike-sportswear-court-borough-baskets-basses-n...</td>\n      <td>[{'path': 'spp-media-p1/0b5fec9e420b37099ccfe6...</td>\n      <td>Nike Sportswear</td>\n      <td>False</td>\n      <td>[]</td>\n      <td>[{'key': 'discountRate', 'value': 'Jusqu’à -25...</td>\n      <td>shoe</td>\n      <td>[]</td>\n      <td>34,95  €</td>\n      <td>26,15  €</td>\n      <td>True</td>\n      <td>False</td>\n      <td>True</td>\n      <td>False</td>\n      <td>NaN</td>\n    </tr>\n    <tr>\n      <th>M9123L0BG-A11</th>\n      <td>CACHITO8 - Veste d'hiver - cremeweiß</td>\n      <td>[6a, 8a, 9a, 10a, 11-12a]</td>\n      <td>mango-cachito8-veste-dhiver-cremeweiss-m9123l0...</td>\n      <td>[{'path': 'spp-media-p1/35236b50637935189937f5...</td>\n      <td>Mango</td>\n      <td>False</td>\n      <td>[]</td>\n      <td>[{'key': 'discountRate', 'value': '-67%', 'tra...</td>\n      <td>clothing</td>\n      <td>[]</td>\n      <td>59,99  €</td>\n      <td>19,99  €</td>\n      <td>False</td>\n      <td>False</td>\n      <td>False</td>\n      <td>False</td>\n      <td>NaN</td>\n    </tr>\n    <tr>\n      <th>LE226G005-A11</th>\n      <td>BATWING TEE - T-shirt imprimé - white</td>\n      <td>[2a, 3a, 4a, 5a, 8a, 10a, 12a, 14a, 16a]</td>\n      <td>levisr-t-shirt-imprime-white-le226g005-a11</td>\n      <td>[{'path': 'spp-media-p1/8d33b25d4a1b3a718e588e...</td>\n      <td>Levi's®</td>\n      <td>False</td>\n      <td>[]</td>\n      <td>[{'key': 'discountRate', 'value': '-15%', 'tra...</td>\n      <td>clothing</td>\n      <td>[]</td>\n      <td>17,95  €</td>\n      <td>15,25  €</td>\n      <td>True</td>\n      <td>False</td>\n      <td>True</td>\n      <td>False</td>\n      <td>NaN</td>\n    </tr>\n    <tr>\n      <th>TO184A02M-K11</th>\n      <td>2 PACK  - T-shirt basique - blue</td>\n      <td>[8-10a, 10-12a, 12-14a, 14-16a]</td>\n      <td>tommy-hilfiger-tee-2-pack-caraco-blue-to184a02...</td>\n      <td>[{'path': 'spp-media-p1/306c5fc7a0b339988ca6db...</td>\n      <td>Tommy Hilfiger</td>\n      <td>False</td>\n      <td>[]</td>\n      <td>[{'key': 'discountRate', 'value': '-5%', 'trac...</td>\n      <td>clothing</td>\n      <td>[]</td>\n      <td>27,95  €</td>\n      <td>26,65  €</td>\n      <td>False</td>\n      <td>False</td>\n      <td>False</td>\n      <td>False</td>\n      <td>NaN</td>\n    </tr>\n    <tr>\n      <th>JAN24B004-Q11</th>\n      <td>Pantalon cargo - black</td>\n      <td>[8a, 9a, 10a, 11a, 12a, 13a, 14a, 15a, 16a]</td>\n      <td>jackandjones-junior-pantalon-cargo-black-jan24...</td>\n      <td>[{'path': 'spp-media-p1/6272154bdaec3231bf44b9...</td>\n      <td>Jack &amp; Jones Junior</td>\n      <td>False</td>\n      <td>[]</td>\n      <td>[{'key': 'discountRate', 'value': '-30%', 'tra...</td>\n      <td>clothing</td>\n      <td>[]</td>\n      <td>49,95  €</td>\n      <td>34,95  €</td>\n      <td>False</td>\n      <td>False</td>\n      <td>False</td>\n      <td>False</td>\n      <td>NaN</td>\n    </tr>\n    <tr>\n      <th>...</th>\n      <td>...</td>\n      <td>...</td>\n      <td>...</td>\n      <td>...</td>\n      <td>...</td>\n      <td>...</td>\n      <td>...</td>\n      <td>...</td>\n      <td>...</td>\n      <td>...</td>\n      <td>...</td>\n      <td>...</td>\n      <td>...</td>\n      <td>...</td>\n      <td>...</td>\n      <td>...</td>\n      <td>...</td>\n    </tr>\n    <tr>\n      <th>10K43A06G-Q11</th>\n      <td>UNISEX - Chaussures d'entraînement et de fitne...</td>\n      <td>[25, 26, 27, 28, 29, 30, 31, 32, 33, 34, 35]</td>\n      <td>kappa-unisex-chaussures-dentrainement-et-de-fi...</td>\n      <td>[{'path': 'spp-media-p1/c616556f29543b509b5992...</td>\n      <td>Kappa</td>\n      <td>False</td>\n      <td>[]</td>\n      <td>[{'key': 'discountRate', 'value': '-10%', 'tra...</td>\n      <td>shoe</td>\n      <td>[]</td>\n      <td>22,95  €</td>\n      <td>20,65  €</td>\n      <td>False</td>\n      <td>False</td>\n      <td>False</td>\n      <td>False</td>\n      <td>NaN</td>\n    </tr>\n    <tr>\n      <th>AD116D0I9-A11</th>\n      <td>SUPERSTAR CRIB - Chaussons pour bébé - footwea...</td>\n      <td>[17, 18, 19, 20, 21]</td>\n      <td>adidas-originals-superstar-crib-chaussons-pour...</td>\n      <td>[{'path': 'spp-media-p1/5b7935fbc63a388ead2206...</td>\n      <td>adidas Originals</td>\n      <td>False</td>\n      <td>[]</td>\n      <td>[{'key': 'discountRate', 'value': '-15%', 'tra...</td>\n      <td>shoe</td>\n      <td>[]</td>\n      <td>31,95  €</td>\n      <td>27,25  €</td>\n      <td>False</td>\n      <td>False</td>\n      <td>False</td>\n      <td>False</td>\n      <td>NaN</td>\n    </tr>\n    <tr>\n      <th>TO124G06E-A11</th>\n      <td>BOYS BASIC  - T-shirt à manches longues - brig...</td>\n      <td>[4a, 5a, 6a, 7a, 8a, 10a, 12a, 14a, 16a]</td>\n      <td>tommy-hilfiger-boys-basic-t-shirt-a-manches-lo...</td>\n      <td>[{'path': 'spp-media-p1/b627cf03d8353fedb79042...</td>\n      <td>Tommy Hilfiger</td>\n      <td>False</td>\n      <td>[]</td>\n      <td>[{'key': 'discountRate', 'value': '-20%', 'tra...</td>\n      <td>clothing</td>\n      <td>[]</td>\n      <td>19,95  €</td>\n      <td>15,95  €</td>\n      <td>True</td>\n      <td>False</td>\n      <td>True</td>\n      <td>False</td>\n      <td>NaN</td>\n    </tr>\n    <tr>\n      <th>LE313D02N-C11</th>\n      <td>TENSY - Baskets basses - grau</td>\n      <td>[26, 27, 28, 29, 30, 31, 32, 33, 34, 35]</td>\n      <td>superfit-tensy-baskets-basses-grau-le313d02n-c11</td>\n      <td>[{'path': 'spp-media-p1/425a3f170a66345fa30b9d...</td>\n      <td>Superfit</td>\n      <td>False</td>\n      <td>[]</td>\n      <td>[{'key': 'discountRate', 'value': '-10%', 'tra...</td>\n      <td>shoe</td>\n      <td>[]</td>\n      <td>49,95  €</td>\n      <td>44,95  €</td>\n      <td>False</td>\n      <td>False</td>\n      <td>False</td>\n      <td>False</td>\n      <td>NaN</td>\n    </tr>\n    <tr>\n      <th>PU114G004-K11</th>\n      <td>DIVECAT V2 INJEX  - Sandales - star sapphire/d...</td>\n      <td>[19, 20, 22, 23, 24, 25, 27]</td>\n      <td>puma-divecat-v2-injex-sandales-de-bain-star-sa...</td>\n      <td>[{'path': 'spp-media-p1/8c1313dd83954b65ba6ade...</td>\n      <td>Puma</td>\n      <td>False</td>\n      <td>[]</td>\n      <td>[{'key': 'discountRate', 'value': '-10%', 'tra...</td>\n      <td>shoe</td>\n      <td>[]</td>\n      <td>19,95  €</td>\n      <td>17,95  €</td>\n      <td>False</td>\n      <td>False</td>\n      <td>False</td>\n      <td>False</td>\n      <td>NaN</td>\n    </tr>\n  </tbody>\n</table>\n<p>84 rows × 17 columns</p>\n</div>"
     },
     "metadata": {},
     "execution_count": 11
    }
   ],
   "source": [
    "# Get the total number of pages\n",
    "total_pages=results['pagination']['page_count']\n",
    "\n",
    "# Your code\n",
    "df=pd.DataFrame()\n",
    "for i in range(total_pages):\n",
    "    k=84*i\n",
    "    url=f'https://www.zalando.fr/api/catalog/articles?categories=promo-enfant&limit=84&offset={k}&sort=sale'\n",
    "    response = urlopen(url)\n",
    "    results = json.load(response)\n",
    "    flattened_data = pd.json_normalize(results)\n",
    "    flattened_data1 = pd.json_normalize(flattened_data.articles[0])\n",
    "    flattened_data1 = flattened_data1.set_index('sku')\n",
    "    df = df.append(flattened_data1)\n",
    "\n",
    "df"
   ]
  },
  {
   "cell_type": "markdown",
   "metadata": {},
   "source": [
    "#### Display the trending brand in DataFrame"
   ]
  },
  {
   "cell_type": "code",
   "execution_count": 12,
   "metadata": {},
   "outputs": [
    {
     "output_type": "execute_result",
     "data": {
      "text/plain": [
       "'adidas Originals'"
      ]
     },
     "metadata": {},
     "execution_count": 12
    }
   ],
   "source": [
    "df.brand_name.value_counts().index[0]"
   ]
  },
  {
   "cell_type": "markdown",
   "metadata": {},
   "source": [
    "#### Display the brand with maximal total discount (sum of discounts on all goods)"
   ]
  },
  {
   "cell_type": "code",
   "execution_count": 13,
   "metadata": {},
   "outputs": [],
   "source": [
    "#Our data is still text. Convert prices into numbers:\n",
    "df['price.original']=df['price.original'].str.extract('(\\d*,\\d*)')\n",
    "df['price.promotional']=df['price.promotional'].str.extract('(\\d*,\\d*)')\n",
    "\n",
    "df['price.original'] = [x.replace(',', '.') for x in df['price.original']]\n",
    "df['price.promotional'] = [x.replace(',', '.') for x in df['price.promotional']]"
   ]
  },
  {
   "cell_type": "code",
   "execution_count": 15,
   "metadata": {},
   "outputs": [],
   "source": [
    "df['discount_amount']=df['price.original'].astype(float)-df['price.promotional'].astype(float)\n",
    "df1=df.copy()"
   ]
  },
  {
   "cell_type": "code",
   "execution_count": 16,
   "metadata": {},
   "outputs": [],
   "source": [
    "total_disc=df1.groupby(['brand_name']).sum().discount_amount"
   ]
  },
  {
   "cell_type": "code",
   "execution_count": 17,
   "metadata": {},
   "outputs": [
    {
     "output_type": "execute_result",
     "data": {
      "text/plain": [
       "'adidas Originals'"
      ]
     },
     "metadata": {},
     "execution_count": 17
    }
   ],
   "source": [
    "total_disc.sort_values(ascending=False).index[0]"
   ]
  },
  {
   "cell_type": "markdown",
   "metadata": {},
   "source": [
    "#### Display the brands without discount at all"
   ]
  },
  {
   "cell_type": "code",
   "execution_count": 18,
   "metadata": {},
   "outputs": [
    {
     "output_type": "execute_result",
     "data": {
      "text/plain": [
       "Series([], Name: discount_amount, dtype: float64)"
      ]
     },
     "metadata": {},
     "execution_count": 18
    }
   ],
   "source": [
    "total_disc[total_disc==0]"
   ]
  },
  {
   "cell_type": "code",
   "execution_count": null,
   "metadata": {},
   "outputs": [],
   "source": []
  }
 ],
 "metadata": {
  "kernelspec": {
   "name": "python395jvsc74a57bd0376f5b0795f81aa7b5d99e448d6274743a66c9892fd26cf11e505993f41df5fa",
   "display_name": "Python 3.9.5 64-bit"
  },
  "language_info": {
   "codemirror_mode": {
    "name": "ipython",
    "version": 3
   },
   "file_extension": ".py",
   "mimetype": "text/x-python",
   "name": "python",
   "nbconvert_exporter": "python",
   "pygments_lexer": "ipython3",
   "version": "3.9.5"
  }
 },
 "nbformat": 4,
 "nbformat_minor": 2
}