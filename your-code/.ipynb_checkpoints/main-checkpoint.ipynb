{
 "cells": [
  {
   "cell_type": "markdown",
   "metadata": {},
   "source": [
    "# Challenge: Promotions\n",
    "\n",
    "In this challenge, you'll develop codes to parse and analyze data returned from another API on Zalando such as [Promos homme (Men's Promotions)\n",
    "](https://www.zalando.fr/promo-homme/) or [Promos femme (Women's Promotions)](https://www.zalando.fr/promo-femme/). The workflow is almost the same as in the guided lesson but you'll work with different data."
   ]
  },
  {
   "cell_type": "markdown",
   "metadata": {},
   "source": [
    "## Obtaining the link\n",
    "\n",
    "Wrote your codes in the cell below to obtain the data from the API endpoint you choose. A recap of the workflow:\n",
    "\n",
    "1. Examine the webpages and choose one that you want to work with.\n",
    "\n",
    "1. Use Google Chrome's DevTools to inspect the XHR network requests. Find out the API endpoint that serves data to the webpage.\n",
    "\n",
    "1. Test the API endpoint in the browser to verify its data.\n",
    "\n",
    "1. Change the page number offset of the API URL to test if it's working."
   ]
  },
  {
   "cell_type": "code",
   "execution_count": 1,
   "metadata": {},
   "outputs": [],
   "source": [
    "# your code here\n",
    "url = 'https://www.zalando.fr/api/catalog/articles?categories=promo-homme&limit=84&offset=84'"
   ]
  },
  {
   "cell_type": "markdown",
   "metadata": {},
   "source": [
    "## Reading the data\n",
    "\n",
    "In the next cell, use Python to obtain data from the API endpoint you chose in the previous step. Workflow:\n",
    "\n",
    "1. Import libraries.\n",
    "\n",
    "1. Define the initial API endpoint URL.\n",
    "\n",
    "1. Make request to obtain data of the 1st page. Flatten the data and store it in an empty object variable.\n",
    "\n",
    "1. Find out the total page count in the 1st page data.\n",
    "\n",
    "1. Use a FOR loop to make requests for the additional pages from 2 to page count. Append the data of each additional page to the flatterned data object.\n",
    "\n",
    "1. Print and review the data you obtained."
   ]
  },
  {
   "cell_type": "code",
   "execution_count": 7,
   "metadata": {},
   "outputs": [
    {
     "name": "stdout",
     "output_type": "stream",
     "text": [
      "<class 'pandas.core.frame.DataFrame'>\n",
      "Index: 35952 entries, TO122O08I-Q11 to TO722G0AB-Q11\n",
      "Data columns (total 21 columns):\n",
      " #   Column                                     Non-Null Count  Dtype \n",
      "---  ------                                     --------------  ----- \n",
      " 0   name                                       35952 non-null  object\n",
      " 1   sizes                                      35952 non-null  object\n",
      " 2   url_key                                    35952 non-null  object\n",
      " 3   media                                      35952 non-null  object\n",
      " 4   brand_name                                 35952 non-null  object\n",
      " 5   is_premium                                 35952 non-null  bool  \n",
      " 6   family_articles                            35952 non-null  object\n",
      " 7   flags                                      35952 non-null  object\n",
      " 8   product_group                              35952 non-null  object\n",
      " 9   delivery_promises                          35952 non-null  object\n",
      " 10  price.original                             35952 non-null  object\n",
      " 11  price.promotional                          35952 non-null  object\n",
      " 12  price.has_different_prices                 35952 non-null  bool  \n",
      " 13  price.has_different_original_prices        35952 non-null  bool  \n",
      " 14  price.has_different_promotional_prices     35952 non-null  bool  \n",
      " 15  price.has_discount_on_selected_sizes_only  35952 non-null  bool  \n",
      " 16  outfits                                    306 non-null    object\n",
      " 17  amount                                     1162 non-null   object\n",
      " 18  condition                                  205 non-null    object\n",
      " 19  condition_key                              205 non-null    object\n",
      " 20  price.base_price                           546 non-null    object\n",
      "dtypes: bool(5), object(16)\n",
      "memory usage: 4.8+ MB\n"
     ]
    }
   ],
   "source": [
    "# your code here\n",
    "import json\n",
    "\n",
    "import requests\n",
    "\n",
    "import pandas as pd\n",
    "from pandas.io.json import json_normalize\n",
    "\n",
    "import urllib.request\n",
    "\n",
    "url = 'https://www.zalando.fr/api/catalog/articles?categories=promo-homme&limit=84&offset=84'\n",
    "\n",
    "data = urllib.request.urlopen(url)\n",
    "obj = json.load(data)\n",
    "\n",
    "flatt_v = pd.json_normalize(obj)\n",
    "\n",
    "flatt_1 = pd.json_normalize(flatt_v.articles[0])\n",
    "\n",
    "total_pages = obj['pagination']['page_count']\n",
    "\n",
    "df = pd.DataFrame()\n",
    "\n",
    "for i in range(total_pages):\n",
    "    k = 84 * i\n",
    "    url = f'https://www.zalando.fr/api/catalog/articles?categories=promo-homme&limit=84&offset={k}'\n",
    "    response = urllib.request.urlopen(url)\n",
    "    results = json.load(response)\n",
    "    flattened_data = pd.json_normalize(results)\n",
    "    flattened_data1 = pd.json_normalize(flattened_data.articles[0])\n",
    "    flattened_data1 = flattened_data1.set_index('sku')\n",
    "    df = df.append(flattened_data1)\n",
    "    \n",
    "df.info()"
   ]
  },
  {
   "cell_type": "markdown",
   "metadata": {},
   "source": [
    "## Bonus\n",
    "\n",
    "Extract the following information from the data:\n",
    "\n",
    "* The trending brand.\n",
    "\n",
    "* The product(s) with the highest discount.\n",
    "\n",
    "* The sum of discounts of all goods (sum_discounted_prices divided by sum_original_prices)."
   ]
  },
  {
   "cell_type": "code",
   "execution_count": 8,
   "metadata": {},
   "outputs": [
    {
     "data": {
      "text/plain": [
       "'Tommy Hilfiger'"
      ]
     },
     "execution_count": 8,
     "metadata": {},
     "output_type": "execute_result"
    }
   ],
   "source": [
    "# your code here\n",
    "df.brand_name.value_counts().index[0]"
   ]
  },
  {
   "cell_type": "code",
   "execution_count": 9,
   "metadata": {},
   "outputs": [],
   "source": [
    "#Our data is still text. Convert prices into numbers:\n",
    "df['price.original']=df['price.original'].str.extract('(\\d*,\\d*)')\n",
    "df['price.promotional']=df['price.promotional'].str.extract('(\\d*,\\d*)')\n",
    "\n",
    "df['price.original'] = [x.replace(',', '.') for x in df['price.original']]\n",
    "df['price.promotional'] = [x.replace(',', '.') for x in df['price.promotional']]"
   ]
  },
  {
   "cell_type": "code",
   "execution_count": 10,
   "metadata": {},
   "outputs": [],
   "source": [
    "df['discount_amount']=df['price.original'].astype(float)-df['price.promotional'].astype(float)\n",
    "df1=df.copy()"
   ]
  },
  {
   "cell_type": "code",
   "execution_count": 11,
   "metadata": {},
   "outputs": [],
   "source": [
    "total_disc=df1.groupby(['brand_name']).sum().discount_amount"
   ]
  },
  {
   "cell_type": "code",
   "execution_count": 12,
   "metadata": {},
   "outputs": [
    {
     "data": {
      "text/plain": [
       "'Tommy Hilfiger'"
      ]
     },
     "execution_count": 12,
     "metadata": {},
     "output_type": "execute_result"
    }
   ],
   "source": [
    "total_disc.sort_values(ascending=False).index[0]"
   ]
  },
  {
   "cell_type": "code",
   "execution_count": null,
   "metadata": {},
   "outputs": [],
   "source": []
  }
 ],
 "metadata": {
  "kernelspec": {
   "display_name": "Python 3",
   "language": "python",
   "name": "python3"
  },
  "language_info": {
   "codemirror_mode": {
    "name": "ipython",
    "version": 3
   },
   "file_extension": ".py",
   "mimetype": "text/x-python",
   "name": "python",
   "nbconvert_exporter": "python",
   "pygments_lexer": "ipython3",
   "version": "3.8.5"
  }
 },
 "nbformat": 4,
 "nbformat_minor": 4
}
