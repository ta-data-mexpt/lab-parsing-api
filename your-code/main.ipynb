{
 "cells": [
  {
   "cell_type": "markdown",
   "metadata": {},
   "source": [
    "# Challenge: Promotions\n",
    "\n",
    "In this challenge, you'll develop codes to parse and analyze data returned from another API on Zalando such as [Promos homme (Men's Promotions)\n",
    "](https://www.zalando.fr/promo-homme/) or [Promos femme (Women's Promotions)](https://www.zalando.fr/promo-femme/). The workflow is almost the same as in the guided lesson but you'll work with different data."
   ]
  },
  {
   "cell_type": "markdown",
   "metadata": {},
   "source": [
    "## Obtaining the link\n",
    "\n",
    "Wrote your codes in the cell below to obtain the data from the API endpoint you choose. A recap of the workflow:\n",
    "\n",
    "1. Examine the webpages and choose one that you want to work with.\n",
    "\n",
    "1. Use Google Chrome's DevTools to inspect the XHR network requests. Find out the API endpoint that serves data to the webpage.\n",
    "\n",
    "1. Test the API endpoint in the browser to verify its data.\n",
    "\n",
    "1. Change the page number offset of the API URL to test if it's working."
   ]
  },
  {
   "cell_type": "code",
   "execution_count": 3,
   "metadata": {},
   "outputs": [
    {
     "output_type": "execute_result",
     "data": {
      "text/plain": [
       "'https://www.zalando.fr/api/catalog/articles?categories=promo-homme=84&offset=84&sort=salet&limi'"
      ]
     },
     "metadata": {},
     "execution_count": 3
    }
   ],
   "source": [
    "# your code here\n",
    "url='https://www.zalando.fr/api/catalog/articles?categories=promo-homme=84&offset=84&sort=salet&limi'\n",
    "url\n"
   ]
  },
  {
   "cell_type": "markdown",
   "metadata": {},
   "source": [
    "## Reading the data\n",
    "\n",
    "In the next cell, use Python to obtain data from the API endpoint you chose in the previous step. Workflow:\n",
    "\n",
    "1. Import libraries.\n",
    "\n",
    "1. Define the initial API endpoint URL.\n",
    "\n",
    "1. Make request to obtain data of the 1st page. Flatten the data and store it in an empty object variable.\n",
    "\n",
    "1. Find out the total page count in the 1st page data.\n",
    "\n",
    "1. Use a FOR loop to make requests for the additional pages from 2 to page count. Append the data of each additional page to the flatterned data object.\n",
    "\n",
    "1. Print and review the data you obtained."
   ]
  },
  {
   "cell_type": "code",
   "execution_count": 2,
   "metadata": {},
   "outputs": [],
   "source": [
    "# your code here\n",
    "import json\n",
    "import pandas as pd\n",
    "from urllib.request import urlopen\n",
    "from pandas.io.json import json_normalize\n",
    "url='https://www.zalando.fr/api/catalog/articles?categories=promo-homme=84&offset=84&sort=salet&limi'\n"
   ]
  },
  {
   "cell_type": "code",
   "execution_count": 12,
   "metadata": {},
   "outputs": [
    {
     "output_type": "stream",
     "name": "stdout",
     "text": [
      "{'total_count': 0, 'pagination': {'page_count': 1, 'current_page': 2, 'per_page': 84}, 'sort': 'popularity', 'articles': [], 'query_path': '/promo-homme=84/?p=2', 'previous_page_path': '/promo-homme=84/', 'query_params': {'categories': 'promo-homme=84', 'sort': 'popularity', 'offset': '84', 'limit': '84'}, 'page_gender': 'unisex', 'premium': False, 'appliedSort': None, 'filters': [], 'total_article_count': 0, 'assortment_entry_points': [], 'plusStatus': 'unknown', 'categoryTree': [], 'sortingKeys': [{'type': 'popularity', 'dir': 'desc', 'label': 'Préférés'}, {'type': 'activation_date', 'dir': 'desc', 'label': 'Nouveautés'}, {'type': 'price_asc', 'dir': 'asc', 'label': 'Prix croissant'}, {'type': 'price_desc', 'dir': 'desc', 'label': 'Prix décroissant'}, {'type': 'sale', 'dir': 'desc', 'label': 'Promos'}], 'breadcrumbs': [], 'querySemantics': {'positive_filters': [{'key': 'categories', 'url_key': 'category', 'kind': 'values', 'values': [{'key': 'promo-homme=84', 'url_key': 'promo-homme=84', 'label': '', 'seo_label': '', 'reset_url': '/'}]}], 'negative_filters': [], 'reset_query_url': '/promo-homme=84/', 'reset_url': '/promo-homme=84/', 'app_url': '?urlKey=promo-homme=84&order=popularity&appdomainId=11', 'url': '/promo-homme=84/', 'positive_hidden_filters': []}, 'articlesToShow': 84, 'octopusTests': [], 'locale': 'fr-FR', 'isLoggedIn': False, 'notification': None, 'resetFilters': {'categories': [{'key': 'promo-homme=84', 'url_key': 'promo-homme=84', 'label': '', 'seo_label': '', 'reset_url': '/'}]}, 'selectedFilters': {'categories': ['promo-homme=84']}, 'ssrArticleCount': 32, 'feedbackId': '5c112594708a306b9e611805', 'variants': {'premiumCatalog': False, 'myBrandsFilter': True, 'hideCategories': False, 'mobileLightFilters': True, 'truncatedCount': False, 'blackFridayGradientEnabled': False, 'cyberweekGradientEnabled': False, 'topTeaserPlaceholder': True, 'salesBannerCountdown': False, 'lazyArticleImages': False, 'useImg01': True}, 'contentPositions': {'in-cat-teaser': 12, 'upper-in-cat-teaser': 5, 'entry-point-teasers': [7, 14, 20, 26], 'size-dialog': 18, 'outfits': [5, 23, 35], 'outfits-mobile': [5, 23, 28, 35], 'style-profile-follow-brands-banner': 6, 'style-profile-follow-brands-banner-mobile': 4, 'ingrid-teaser': 6, 'ingrid-mobile-teaser': 4}, 'followBrandsBannerEnabled': False, 'prideEnabled': False, 'lazyArticleImages': False, 'hideSearchTerm': False, 'iconPaths': {'filters': {'standard_delivery_filter': 'icons/truck.svg', 'fast_delivery_filter': 'icons/truck-fast.svg', 'zalando_plus': 'icons/plus-short-1.svg'}, 'mobileFilters': {'standard_delivery_filter': 'icons/truck.svg', 'fast_delivery_filter': 'icons/truck-fast.svg', 'zalando_plus': 'icons/plus-short-1.svg'}, 'flags': {'slow_delivery_flag': 'icons/clock.svg', 'fast_delivery_flag': 'icons/truck-fast-orange-3.svg', 'plus_delivery_flag': 'icons/plus-short-1.svg', 'zalando_plus': 'icons/zalando-plus.svg'}}, 'articleFlagPresetOverrides': {}, 'teaser': None, 'inCatalogTeaser': None, 'upperInCatTeaser': None, 'inGridTeaser': None, 'wishlist': None, 'pills': None, 'sizeOnboardingDialog': None}\n"
     ]
    }
   ],
   "source": [
    "response = urlopen(url)\n",
    "results = json.load(response)\n",
    "print(results)"
   ]
  },
  {
   "cell_type": "code",
   "execution_count": 8,
   "metadata": {},
   "outputs": [
    {
     "output_type": "stream",
     "name": "stdout",
     "text": [
      "   total_count        sort articles            query_path previous_page_path  \\\n",
      "0            0  popularity       []  /promo-homme=84/?p=2   /promo-homme=84/   \n",
      "\n",
      "  page_gender  premium appliedSort filters  total_article_count  ...  \\\n",
      "0      unisex    False        None      []                    0  ...   \n",
      "\n",
      "  iconPaths.filters.standard_delivery_filter  \\\n",
      "0                            icons/truck.svg   \n",
      "\n",
      "  iconPaths.filters.fast_delivery_filter iconPaths.filters.zalando_plus  \\\n",
      "0                   icons/truck-fast.svg         icons/plus-short-1.svg   \n",
      "\n",
      "  iconPaths.mobileFilters.standard_delivery_filter  \\\n",
      "0                                  icons/truck.svg   \n",
      "\n",
      "  iconPaths.mobileFilters.fast_delivery_filter  \\\n",
      "0                         icons/truck-fast.svg   \n",
      "\n",
      "   iconPaths.mobileFilters.zalando_plus iconPaths.flags.slow_delivery_flag  \\\n",
      "0                icons/plus-short-1.svg                    icons/clock.svg   \n",
      "\n",
      "  iconPaths.flags.fast_delivery_flag  iconPaths.flags.plus_delivery_flag  \\\n",
      "0      icons/truck-fast-orange-3.svg              icons/plus-short-1.svg   \n",
      "\n",
      "  iconPaths.flags.zalando_plus  \n",
      "0       icons/zalando-plus.svg  \n",
      "\n",
      "[1 rows x 80 columns]\n",
      "<ipython-input-8-7c832ba57a18>:1: FutureWarning: pandas.io.json.json_normalize is deprecated, use pandas.json_normalize instead\n",
      "  flattened_data = json_normalize(results)\n"
     ]
    }
   ],
   "source": [
    "flattened_data = json_normalize(results)\n",
    "print(flattened_data)\n"
   ]
  },
  {
   "cell_type": "code",
   "execution_count": 14,
   "metadata": {},
   "outputs": [
    {
     "output_type": "execute_result",
     "data": {
      "text/plain": [
       "1"
      ]
     },
     "metadata": {},
     "execution_count": 14
    }
   ],
   "source": [
    "# total number of pages\n",
    "total_pages=results['pagination']['page_count']\n",
    "total_pages\n"
   ]
  },
  {
   "cell_type": "code",
   "execution_count": 15,
   "metadata": {},
   "outputs": [
    {
     "output_type": "execute_result",
     "data": {
      "text/plain": [
       "                                                            name  \\\n",
       "sku                                                                \n",
       "TO122O08I-Q11                 LOGO TEE - T-shirt imprimé - black   \n",
       "HY554B01L-Q11                            Masque en tissu - black   \n",
       "AD122O0GM-Q11                 TECH TEE - T-shirt imprimé - black   \n",
       "JA222E0QZ-K11  JJIMARCO JJPHIL  - Pantalon classique - navy b...   \n",
       "JA222E0F5-K11                         MARCO BOWIE - Chino - navy   \n",
       "...                                                          ...   \n",
       "PI922S038-A11                            Sweat à capuche - white   \n",
       "JA222T0NJ-G11                        Veste mi-saison - tango red   \n",
       "JA222O32B-G12  JJELOGO BLOCKING TEE - T-shirt imprimé - tango...   \n",
       "A0112O01A-Q11                   IBARENI - Baskets basses - black   \n",
       "BL522T047-Q11                            Veste mi-saison - black   \n",
       "\n",
       "                                                           sizes  \\\n",
       "sku                                                                \n",
       "TO122O08I-Q11                        [XS, S, M, L, XL, XXL, 3XL]   \n",
       "HY554B01L-Q11                                         [One Size]   \n",
       "AD122O0GM-Q11                             [XS, S, M, L, XL, XXL]   \n",
       "JA222E0QZ-K11  [28x30, 29x30, 29x32, 30x32, 32x30, 32x32, 32x...   \n",
       "JA222E0F5-K11  [27x30, 27x32, 28x30, 28x32, 29x30, 29x32, 30x...   \n",
       "...                                                          ...   \n",
       "PI922S038-A11                             [XS, S, M, L, XL, XXL]   \n",
       "JA222T0NJ-G11                                          [S, M, L]   \n",
       "JA222O32B-G12                             [XS, S, M, L, XL, XXL]   \n",
       "A0112O01A-Q11                       [40, 41, 42, 43, 44, 45, 46]   \n",
       "BL522T047-Q11                            [S, M, L, XL, XXL, 3XL]   \n",
       "\n",
       "                                                         url_key  \\\n",
       "sku                                                                \n",
       "TO122O08I-Q11  tommy-hilfiger-logo-tee-t-shirt-imprime-to122o...   \n",
       "HY554B01L-Q11           hype-masque-en-tissu-black-hy554b01l-q11   \n",
       "AD122O0GM-Q11  adidas-originals-tech-tee-t-shirt-imprime-ad12...   \n",
       "JA222E0QZ-K11  jack-and-jones-jjimarco-jjphil-pantalon-classi...   \n",
       "JA222E0F5-K11  jack-and-jones-marco-bowie-chino-navy-ja222e0f...   \n",
       "...                                                          ...   \n",
       "PI922S038-A11            pier-one-sweatshirt-white-pi922s038-a11   \n",
       "JA222T0NJ-G11  jack-and-jones-veste-dhiver-tango-red-ja222t0n...   \n",
       "JA222O32B-G12  jack-and-jones-jjelogo-blocking-tee-t-shirt-im...   \n",
       "A0112O01A-Q11    aldo-ibareni-baskets-basses-black-a0112o01a-q11   \n",
       "BL522T047-Q11             blend-veste-dhiver-black-bl522t047-q11   \n",
       "\n",
       "                                                           media  \\\n",
       "sku                                                                \n",
       "TO122O08I-Q11  [{'path': 'spp-media-p1/6a1582f6fde836a5917156...   \n",
       "HY554B01L-Q11  [{'path': 'spp-media-p1/c15457b8f18532a086b55a...   \n",
       "AD122O0GM-Q11  [{'path': 'spp-media-p1/48b9327c2f6433cc82cee6...   \n",
       "JA222E0QZ-K11  [{'path': 'spp-media-p1/5dfb794c7c8b46fe8adbf8...   \n",
       "JA222E0F5-K11  [{'path': 'spp-media-p1/33fc78cacde137fc8cecd1...   \n",
       "...                                                          ...   \n",
       "PI922S038-A11  [{'path': 'spp-media-p1/db071f03a64d3629a1b95e...   \n",
       "JA222T0NJ-G11  [{'path': 'spp-media-p1/3e1a50002e8e395395e3e4...   \n",
       "JA222O32B-G12  [{'path': 'spp-media-p1/cf5ccef4201739f993da5d...   \n",
       "A0112O01A-Q11  [{'path': 'spp-media-p1/0440590d08aa37c78bb01f...   \n",
       "BL522T047-Q11  [{'path': 'spp-media-p1/925f653f97e33872936a01...   \n",
       "\n",
       "                     brand_name  is_premium family_articles  \\\n",
       "sku                                                           \n",
       "TO122O08I-Q11    Tommy Hilfiger       False              []   \n",
       "HY554B01L-Q11              Hype       False              []   \n",
       "AD122O0GM-Q11  adidas Originals       False              []   \n",
       "JA222E0QZ-K11      Jack & Jones       False              []   \n",
       "JA222E0F5-K11      Jack & Jones       False              []   \n",
       "...                         ...         ...             ...   \n",
       "PI922S038-A11          Pier One       False              []   \n",
       "JA222T0NJ-G11      Jack & Jones       False              []   \n",
       "JA222O32B-G12      Jack & Jones       False              []   \n",
       "A0112O01A-Q11              ALDO       False              []   \n",
       "BL522T047-Q11             Blend       False              []   \n",
       "\n",
       "                                                           flags  \\\n",
       "sku                                                                \n",
       "TO122O08I-Q11  [{'key': 'discountRate', 'value': '-30%', 'tra...   \n",
       "HY554B01L-Q11  [{'key': 'discountRate', 'value': '-70%', 'tra...   \n",
       "AD122O0GM-Q11  [{'key': 'discountRate', 'value': 'Jusqu’à -25...   \n",
       "JA222E0QZ-K11  [{'key': 'discountRate', 'value': 'Jusqu’à -50...   \n",
       "JA222E0F5-K11  [{'key': 'discountRate', 'value': 'Jusqu’à -25...   \n",
       "...                                                          ...   \n",
       "PI922S038-A11  [{'key': 'discountRate', 'value': '-20%', 'tra...   \n",
       "JA222T0NJ-G11  [{'key': 'discountRate', 'value': '-50%', 'tra...   \n",
       "JA222O32B-G12  [{'key': 'discountRate', 'value': '-30%', 'tra...   \n",
       "A0112O01A-Q11  [{'key': 'discountRate', 'value': '-45%', 'tra...   \n",
       "BL522T047-Q11  [{'key': 'discountRate', 'value': '-9%', 'trac...   \n",
       "\n",
       "              product_group delivery_promises price.original  \\\n",
       "sku                                                            \n",
       "TO122O08I-Q11      clothing                []       39,95  €   \n",
       "HY554B01L-Q11   accessoires                []       15,00  €   \n",
       "AD122O0GM-Q11      clothing                []       29,95  €   \n",
       "JA222E0QZ-K11      clothing                []       39,99  €   \n",
       "JA222E0F5-K11      clothing                []       39,99  €   \n",
       "...                     ...               ...            ...   \n",
       "PI922S038-A11      clothing                []       24,99  €   \n",
       "JA222T0NJ-G11      clothing                []       49,99  €   \n",
       "JA222O32B-G12      clothing                []       14,99  €   \n",
       "A0112O01A-Q11          shoe                []       49,95  €   \n",
       "BL522T047-Q11      clothing                []       54,95  €   \n",
       "\n",
       "              price.promotional  price.has_different_prices  \\\n",
       "sku                                                           \n",
       "TO122O08I-Q11          27,95  €                       False   \n",
       "HY554B01L-Q11           4,50  €                       False   \n",
       "AD122O0GM-Q11          22,45  €                        True   \n",
       "JA222E0QZ-K11          20,00  €                        True   \n",
       "JA222E0F5-K11          29,99  €                        True   \n",
       "...                         ...                         ...   \n",
       "PI922S038-A11          20,09  €                       False   \n",
       "JA222T0NJ-G11          25,00  €                       False   \n",
       "JA222O32B-G12          10,49  €                       False   \n",
       "A0112O01A-Q11          27,65  €                       False   \n",
       "BL522T047-Q11          49,95  €                       False   \n",
       "\n",
       "               price.has_different_original_prices  \\\n",
       "sku                                                  \n",
       "TO122O08I-Q11                                False   \n",
       "HY554B01L-Q11                                False   \n",
       "AD122O0GM-Q11                                False   \n",
       "JA222E0QZ-K11                                False   \n",
       "JA222E0F5-K11                                False   \n",
       "...                                            ...   \n",
       "PI922S038-A11                                False   \n",
       "JA222T0NJ-G11                                False   \n",
       "JA222O32B-G12                                False   \n",
       "A0112O01A-Q11                                False   \n",
       "BL522T047-Q11                                False   \n",
       "\n",
       "               price.has_different_promotional_prices  \\\n",
       "sku                                                     \n",
       "TO122O08I-Q11                                   False   \n",
       "HY554B01L-Q11                                   False   \n",
       "AD122O0GM-Q11                                    True   \n",
       "JA222E0QZ-K11                                    True   \n",
       "JA222E0F5-K11                                    True   \n",
       "...                                               ...   \n",
       "PI922S038-A11                                   False   \n",
       "JA222T0NJ-G11                                   False   \n",
       "JA222O32B-G12                                   False   \n",
       "A0112O01A-Q11                                   False   \n",
       "BL522T047-Q11                                   False   \n",
       "\n",
       "               price.has_discount_on_selected_sizes_only outfits  \n",
       "sku                                                               \n",
       "TO122O08I-Q11                                      False     NaN  \n",
       "HY554B01L-Q11                                      False     NaN  \n",
       "AD122O0GM-Q11                                      False     NaN  \n",
       "JA222E0QZ-K11                                      False     NaN  \n",
       "JA222E0F5-K11                                      False     NaN  \n",
       "...                                                  ...     ...  \n",
       "PI922S038-A11                                      False     NaN  \n",
       "JA222T0NJ-G11                                      False     NaN  \n",
       "JA222O32B-G12                                      False     NaN  \n",
       "A0112O01A-Q11                                      False     NaN  \n",
       "BL522T047-Q11                                      False     NaN  \n",
       "\n",
       "[84 rows x 17 columns]"
      ],
      "text/html": "<div>\n<style scoped>\n    .dataframe tbody tr th:only-of-type {\n        vertical-align: middle;\n    }\n\n    .dataframe tbody tr th {\n        vertical-align: top;\n    }\n\n    .dataframe thead th {\n        text-align: right;\n    }\n</style>\n<table border=\"1\" class=\"dataframe\">\n  <thead>\n    <tr style=\"text-align: right;\">\n      <th></th>\n      <th>name</th>\n      <th>sizes</th>\n      <th>url_key</th>\n      <th>media</th>\n      <th>brand_name</th>\n      <th>is_premium</th>\n      <th>family_articles</th>\n      <th>flags</th>\n      <th>product_group</th>\n      <th>delivery_promises</th>\n      <th>price.original</th>\n      <th>price.promotional</th>\n      <th>price.has_different_prices</th>\n      <th>price.has_different_original_prices</th>\n      <th>price.has_different_promotional_prices</th>\n      <th>price.has_discount_on_selected_sizes_only</th>\n      <th>outfits</th>\n    </tr>\n    <tr>\n      <th>sku</th>\n      <th></th>\n      <th></th>\n      <th></th>\n      <th></th>\n      <th></th>\n      <th></th>\n      <th></th>\n      <th></th>\n      <th></th>\n      <th></th>\n      <th></th>\n      <th></th>\n      <th></th>\n      <th></th>\n      <th></th>\n      <th></th>\n      <th></th>\n    </tr>\n  </thead>\n  <tbody>\n    <tr>\n      <th>TO122O08I-Q11</th>\n      <td>LOGO TEE - T-shirt imprimé - black</td>\n      <td>[XS, S, M, L, XL, XXL, 3XL]</td>\n      <td>tommy-hilfiger-logo-tee-t-shirt-imprime-to122o...</td>\n      <td>[{'path': 'spp-media-p1/6a1582f6fde836a5917156...</td>\n      <td>Tommy Hilfiger</td>\n      <td>False</td>\n      <td>[]</td>\n      <td>[{'key': 'discountRate', 'value': '-30%', 'tra...</td>\n      <td>clothing</td>\n      <td>[]</td>\n      <td>39,95  €</td>\n      <td>27,95  €</td>\n      <td>False</td>\n      <td>False</td>\n      <td>False</td>\n      <td>False</td>\n      <td>NaN</td>\n    </tr>\n    <tr>\n      <th>HY554B01L-Q11</th>\n      <td>Masque en tissu - black</td>\n      <td>[One Size]</td>\n      <td>hype-masque-en-tissu-black-hy554b01l-q11</td>\n      <td>[{'path': 'spp-media-p1/c15457b8f18532a086b55a...</td>\n      <td>Hype</td>\n      <td>False</td>\n      <td>[]</td>\n      <td>[{'key': 'discountRate', 'value': '-70%', 'tra...</td>\n      <td>accessoires</td>\n      <td>[]</td>\n      <td>15,00  €</td>\n      <td>4,50  €</td>\n      <td>False</td>\n      <td>False</td>\n      <td>False</td>\n      <td>False</td>\n      <td>NaN</td>\n    </tr>\n    <tr>\n      <th>AD122O0GM-Q11</th>\n      <td>TECH TEE - T-shirt imprimé - black</td>\n      <td>[XS, S, M, L, XL, XXL]</td>\n      <td>adidas-originals-tech-tee-t-shirt-imprime-ad12...</td>\n      <td>[{'path': 'spp-media-p1/48b9327c2f6433cc82cee6...</td>\n      <td>adidas Originals</td>\n      <td>False</td>\n      <td>[]</td>\n      <td>[{'key': 'discountRate', 'value': 'Jusqu’à -25...</td>\n      <td>clothing</td>\n      <td>[]</td>\n      <td>29,95  €</td>\n      <td>22,45  €</td>\n      <td>True</td>\n      <td>False</td>\n      <td>True</td>\n      <td>False</td>\n      <td>NaN</td>\n    </tr>\n    <tr>\n      <th>JA222E0QZ-K11</th>\n      <td>JJIMARCO JJPHIL  - Pantalon classique - navy b...</td>\n      <td>[28x30, 29x30, 29x32, 30x32, 32x30, 32x32, 32x...</td>\n      <td>jack-and-jones-jjimarco-jjphil-pantalon-classi...</td>\n      <td>[{'path': 'spp-media-p1/5dfb794c7c8b46fe8adbf8...</td>\n      <td>Jack &amp; Jones</td>\n      <td>False</td>\n      <td>[]</td>\n      <td>[{'key': 'discountRate', 'value': 'Jusqu’à -50...</td>\n      <td>clothing</td>\n      <td>[]</td>\n      <td>39,99  €</td>\n      <td>20,00  €</td>\n      <td>True</td>\n      <td>False</td>\n      <td>True</td>\n      <td>False</td>\n      <td>NaN</td>\n    </tr>\n    <tr>\n      <th>JA222E0F5-K11</th>\n      <td>MARCO BOWIE - Chino - navy</td>\n      <td>[27x30, 27x32, 28x30, 28x32, 29x30, 29x32, 30x...</td>\n      <td>jack-and-jones-marco-bowie-chino-navy-ja222e0f...</td>\n      <td>[{'path': 'spp-media-p1/33fc78cacde137fc8cecd1...</td>\n      <td>Jack &amp; Jones</td>\n      <td>False</td>\n      <td>[]</td>\n      <td>[{'key': 'discountRate', 'value': 'Jusqu’à -25...</td>\n      <td>clothing</td>\n      <td>[]</td>\n      <td>39,99  €</td>\n      <td>29,99  €</td>\n      <td>True</td>\n      <td>False</td>\n      <td>True</td>\n      <td>False</td>\n      <td>NaN</td>\n    </tr>\n    <tr>\n      <th>...</th>\n      <td>...</td>\n      <td>...</td>\n      <td>...</td>\n      <td>...</td>\n      <td>...</td>\n      <td>...</td>\n      <td>...</td>\n      <td>...</td>\n      <td>...</td>\n      <td>...</td>\n      <td>...</td>\n      <td>...</td>\n      <td>...</td>\n      <td>...</td>\n      <td>...</td>\n      <td>...</td>\n      <td>...</td>\n    </tr>\n    <tr>\n      <th>PI922S038-A11</th>\n      <td>Sweat à capuche - white</td>\n      <td>[XS, S, M, L, XL, XXL]</td>\n      <td>pier-one-sweatshirt-white-pi922s038-a11</td>\n      <td>[{'path': 'spp-media-p1/db071f03a64d3629a1b95e...</td>\n      <td>Pier One</td>\n      <td>False</td>\n      <td>[]</td>\n      <td>[{'key': 'discountRate', 'value': '-20%', 'tra...</td>\n      <td>clothing</td>\n      <td>[]</td>\n      <td>24,99  €</td>\n      <td>20,09  €</td>\n      <td>False</td>\n      <td>False</td>\n      <td>False</td>\n      <td>False</td>\n      <td>NaN</td>\n    </tr>\n    <tr>\n      <th>JA222T0NJ-G11</th>\n      <td>Veste mi-saison - tango red</td>\n      <td>[S, M, L]</td>\n      <td>jack-and-jones-veste-dhiver-tango-red-ja222t0n...</td>\n      <td>[{'path': 'spp-media-p1/3e1a50002e8e395395e3e4...</td>\n      <td>Jack &amp; Jones</td>\n      <td>False</td>\n      <td>[]</td>\n      <td>[{'key': 'discountRate', 'value': '-50%', 'tra...</td>\n      <td>clothing</td>\n      <td>[]</td>\n      <td>49,99  €</td>\n      <td>25,00  €</td>\n      <td>False</td>\n      <td>False</td>\n      <td>False</td>\n      <td>False</td>\n      <td>NaN</td>\n    </tr>\n    <tr>\n      <th>JA222O32B-G12</th>\n      <td>JJELOGO BLOCKING TEE - T-shirt imprimé - tango...</td>\n      <td>[XS, S, M, L, XL, XXL]</td>\n      <td>jack-and-jones-jjelogo-blocking-tee-t-shirt-im...</td>\n      <td>[{'path': 'spp-media-p1/cf5ccef4201739f993da5d...</td>\n      <td>Jack &amp; Jones</td>\n      <td>False</td>\n      <td>[]</td>\n      <td>[{'key': 'discountRate', 'value': '-30%', 'tra...</td>\n      <td>clothing</td>\n      <td>[]</td>\n      <td>14,99  €</td>\n      <td>10,49  €</td>\n      <td>False</td>\n      <td>False</td>\n      <td>False</td>\n      <td>False</td>\n      <td>NaN</td>\n    </tr>\n    <tr>\n      <th>A0112O01A-Q11</th>\n      <td>IBARENI - Baskets basses - black</td>\n      <td>[40, 41, 42, 43, 44, 45, 46]</td>\n      <td>aldo-ibareni-baskets-basses-black-a0112o01a-q11</td>\n      <td>[{'path': 'spp-media-p1/0440590d08aa37c78bb01f...</td>\n      <td>ALDO</td>\n      <td>False</td>\n      <td>[]</td>\n      <td>[{'key': 'discountRate', 'value': '-45%', 'tra...</td>\n      <td>shoe</td>\n      <td>[]</td>\n      <td>49,95  €</td>\n      <td>27,65  €</td>\n      <td>False</td>\n      <td>False</td>\n      <td>False</td>\n      <td>False</td>\n      <td>NaN</td>\n    </tr>\n    <tr>\n      <th>BL522T047-Q11</th>\n      <td>Veste mi-saison - black</td>\n      <td>[S, M, L, XL, XXL, 3XL]</td>\n      <td>blend-veste-dhiver-black-bl522t047-q11</td>\n      <td>[{'path': 'spp-media-p1/925f653f97e33872936a01...</td>\n      <td>Blend</td>\n      <td>False</td>\n      <td>[]</td>\n      <td>[{'key': 'discountRate', 'value': '-9%', 'trac...</td>\n      <td>clothing</td>\n      <td>[]</td>\n      <td>54,95  €</td>\n      <td>49,95  €</td>\n      <td>False</td>\n      <td>False</td>\n      <td>False</td>\n      <td>False</td>\n      <td>NaN</td>\n    </tr>\n  </tbody>\n</table>\n<p>84 rows × 17 columns</p>\n</div>"
     },
     "metadata": {},
     "execution_count": 15
    }
   ],
   "source": [
    "df=pd.DataFrame()\n",
    "for i in range(total_pages):\n",
    "    k=84*i\n",
    "    url=f'https://www.zalando.fr/api/catalog/articles?categories=promo-homme&limit=84&offset={k}&sort=sale'\n",
    "    response = urlopen(url)\n",
    "    results = json.load(response)\n",
    "    flattened_data = pd.json_normalize(results)\n",
    "    flattened_data1 = pd.json_normalize(flattened_data.articles[0])\n",
    "    flattened_data1 = flattened_data1.set_index('sku')\n",
    "    df = df.append(flattened_data1)\n",
    "\n",
    "df"
   ]
  },
  {
   "cell_type": "markdown",
   "metadata": {},
   "source": [
    "## Bonus\n",
    "\n",
    "Extract the following information from the data:\n",
    "\n",
    "* The trending brand.\n",
    "\n",
    "* The product(s) with the highest discount.\n",
    "\n",
    "* The sum of discounts of all goods (sum_discounted_prices divided by sum_original_prices)."
   ]
  },
  {
   "cell_type": "code",
   "execution_count": 16,
   "metadata": {},
   "outputs": [
    {
     "output_type": "execute_result",
     "data": {
      "text/plain": [
       "'Jack & Jones'"
      ]
     },
     "metadata": {},
     "execution_count": 16
    }
   ],
   "source": [
    "# your code here\n",
    "df.brand_name.value_counts().index[0]"
   ]
  }
 ],
 "metadata": {
  "kernelspec": {
   "name": "python395jvsc74a57bd0376f5b0795f81aa7b5d99e448d6274743a66c9892fd26cf11e505993f41df5fa",
   "display_name": "Python 3.9.5 64-bit"
  },
  "language_info": {
   "codemirror_mode": {
    "name": "ipython",
    "version": 3
   },
   "file_extension": ".py",
   "mimetype": "text/x-python",
   "name": "python",
   "nbconvert_exporter": "python",
   "pygments_lexer": "ipython3",
   "version": "3.9.5"
  }
 },
 "nbformat": 4,
 "nbformat_minor": 2
}