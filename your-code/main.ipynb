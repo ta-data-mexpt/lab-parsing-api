{
 "cells": [
  {
   "cell_type": "markdown",
   "metadata": {},
   "source": [
    "# Challenge: Promotions\n",
    "\n",
    "In this challenge, you'll develop codes to parse and analyze data returned from another API on Zalando such as [Promos homme (Men's Promotions)\n",
    "](https://www.zalando.fr/promo-homme/) or [Promos femme (Women's Promotions)](https://www.zalando.fr/promo-femme/). The workflow is almost the same as in the guided lesson but you'll work with different data."
   ]
  },
  {
   "cell_type": "markdown",
   "metadata": {},
   "source": [
    "## Obtaining the link\n",
    "\n",
    "Wrote your codes in the cell below to obtain the data from the API endpoint you choose. A recap of the workflow:\n",
    "\n",
    "1. Examine the webpages and choose one that you want to work with.\n",
    "\n",
    "1. Use Google Chrome's DevTools to inspect the XHR network requests. Find out the API endpoint that serves data to the webpage.\n",
    "\n",
    "1. Test the API endpoint in the browser to verify its data.\n",
    "\n",
    "1. Change the page number offset of the API URL to test if it's working."
   ]
  },
  {
   "cell_type": "code",
   "execution_count": 12,
   "metadata": {},
   "outputs": [],
   "source": [
    "import json\n",
    "import requests\n",
    "import pandas as pd\n",
    "from pandas.io.json import json_normalize\n",
    "\n",
    "url = 'https://www.zalando.fr/api/catalog/articles?categories=promo-homme&limit=84&offset=0&sort=popularity'\n",
    "\n",
    "headers = {'User-Agent':'Mozilla/5.0 (Macintosh; Intel Mac OS X 10_15_4) AppleWebKit/537.36 (KHTML, like Gecko) Chrome/81.0.4044.138 Safari/537.36'}"
   ]
  },
  {
   "cell_type": "markdown",
   "metadata": {},
   "source": [
    "## Reading the data\n",
    "\n",
    "In the next cell, use Python to obtain data from the API endpoint you chose in the previous step. Workflow:\n",
    "\n",
    "1. Import libraries.\n",
    "\n",
    "1. Define the initial API endpoint URL.\n",
    "\n",
    "1. Make request to obtain data of the 1st page. Flatten the data and store it in an empty object variable.\n",
    "\n",
    "1. Find out the total page count in the 1st page data.\n",
    "\n",
    "1. Use a FOR loop to make requests for the additional pages from 2 to page count. Append the data of each additional page to the flatterned data object.\n",
    "\n",
    "1. Print and review the data you obtained."
   ]
  },
  {
   "cell_type": "code",
   "execution_count": 13,
   "metadata": {},
   "outputs": [
    {
     "output_type": "execute_result",
     "data": {
      "text/plain": "              sku                                               name  \\\n0   HA115G00H-J11      SLIDE BRASIL - Sandales de bain - crocus rose   \n1   PUC22G0AM-C11  PREMIUM-KAROTTENJEANS MIT ZIERRISSEN 05684525 ...   \n2   LE222O055-C11  CREWNECK GRAPHIC 2 PACK - T-shirt imprimé - wh...   \n3   NI112O08W-Q11               AIR MAX 200 - Baskets basses - black   \n4   HU752D02V-Q11                          GEXTER - Ceinture - black   \n..            ...                                                ...   \n79  TOB22S00X-C11  ORIGINAL ZIPTHRU - veste en sweat zippée - mot...   \n80  PI912O021-A11                             Baskets basses - white   \n81  TOB22E00V-B11                SCANTON PANT - Chino - pumice stone   \n82  LE222S038-Q11           GRAPHIC HOODIE - Sweat à capuche - black   \n83  NI122T03X-G11  M NSW NIKE AIR JKT WVN - Veste coupe-vent - un...   \n\n                                                sizes  \\\n0                        [35/36, 37/38, 39/40, 41/42]   \n1                            [36, 38, 40, 42, 44, 46]   \n2                         [XS, S, M, L, XL, XXL, 3XL]   \n3   [38.5, 39, 40, 40.5, 41, 42, 42.5, 43, 44, 44....   \n4               [85, 90, 95, 100, 105, 110, 115, 120]   \n..                                                ...   \n79                                        [XS, M, XL]   \n80                   [40, 41, 42, 44, 45, 46, 47, 48]   \n81  [28x30, 28x32, 29x30, 29x32, 29x34, 30x30, 30x...   \n82                                 [S, M, L, XL, XXL]   \n83                                         [M, L, XL]   \n\n                                              url_key  \\\n0          havaianas-slide-brasil-mules-ha115g00h-j11   \n1   pullandbear-premium-karottenjeans-mit-zierriss...   \n2   levisr-crewneck-graphic-2-pack-t-shirt-basique...   \n3   nike-sportswear-air-max-200-baskets-basses-ni1...   \n4            hugo-gexter-ceinture-black-hu752d02v-q11   \n..                                                ...   \n79  tommy-jeans-original-zipthru-veste-en-sweat-to...   \n80        pier-one-baskets-basses-white-pi912o021-a11   \n81       tommy-jeans-scanton-pant-chino-tob22e00v-b11   \n82  levisr-graphic-hoodie-sweatshirt-black-le222s0...   \n83  nike-sportswear-veste-legere-university-redbla...   \n\n                                                media       brand_name  \\\n0   [{'path': 'HA/11/5G/00/HJ/11/HA115G00H-J11@9.j...        Havaianas   \n1   [{'path': 'PU/C2/2G/0A/MC/11/PUC22G0AM-C11@20....        PULL&BEAR   \n2   [{'path': 'LE/22/2O/05/5C/11/LE222O055-C11@9.1...          Levi's®   \n3   [{'path': 'NI/11/2O/08/WQ/11/NI112O08W-Q11@8.j...  Nike Sportswear   \n4   [{'path': 'HU/75/2D/02/VQ/11/HU752D02V-Q11@7.j...             HUGO   \n..                                                ...              ...   \n79  [{'path': 'TO/B2/2S/00/XC/11/TOB22S00X-C11@18....      Tommy Jeans   \n80  [{'path': 'PI/91/2O/02/1A/11/PI912O021-A11@2.j...         Pier One   \n81  [{'path': 'TO/B2/2E/00/VB/11/TOB22E00V-B11@8.j...      Tommy Jeans   \n82  [{'path': 'LE/22/2S/03/8Q/11/LE222S038-Q11@7.j...          Levi's®   \n83  [{'path': 'NI/12/2T/03/XG/11/NI122T03X-G11@10....  Nike Sportswear   \n\n    is_premium                                    family_articles  \\\n0        False  [{'sku': 'HA115G00H-J11', 'url_key': 'havaiana...   \n1        False  [{'sku': 'PUC22G0AM-C11', 'url_key': 'pullandb...   \n2        False  [{'sku': 'LE222O055-C11', 'url_key': 'levisr-c...   \n3        False  [{'sku': 'NI112O08W-Q11', 'url_key': 'nike-spo...   \n4         True  [{'sku': 'HU752D02V-Q11', 'url_key': 'hugo-gex...   \n..         ...                                                ...   \n79       False  [{'sku': 'TOB22S00X-C11', 'url_key': 'tommy-je...   \n80       False  [{'sku': 'PI912O021-A11', 'url_key': 'pier-one...   \n81       False  [{'sku': 'TOB22E00V-B11', 'url_key': 'tommy-je...   \n82       False  [{'sku': 'LE222S038-Q11', 'url_key': 'levisr-g...   \n83       False  [{'sku': 'NI122T03X-G11', 'url_key': 'nike-spo...   \n\n                                                flags product_group  ...  \\\n0   [{'key': 'discountRate', 'value': '-30%', 'tra...          shoe  ...   \n1   [{'key': 'discountRate', 'value': '-40%', 'tra...      clothing  ...   \n2   [{'key': 'discountRate', 'value': '-15%', 'tra...      clothing  ...   \n3   [{'key': 'discountRate', 'value': 'Jusqu’à -30...          shoe  ...   \n4   [{'key': 'discountRate', 'value': '-20%', 'tra...   accessoires  ...   \n..                                                ...           ...  ...   \n79  [{'key': 'discountRate', 'value': '-20%', 'tra...      clothing  ...   \n80  [{'key': 'discountRate', 'value': '-10%', 'tra...          shoe  ...   \n81  [{'key': 'discountRate', 'value': '-30%', 'tra...      clothing  ...   \n82  [{'key': 'discountRate', 'value': '-40%', 'tra...      clothing  ...   \n83  [{'key': 'discountRate', 'value': '-40%', 'tra...      clothing  ...   \n\n   price.original price.promotional price.has_different_prices  \\\n0         27,95 €           19,65 €                      False   \n1         29,99 €           17,99 €                      False   \n2         34,95 €           29,65 €                      False   \n3        124,95 €           86,95 €                       True   \n4         69,95 €           55,95 €                      False   \n..            ...               ...                        ...   \n79        89,95 €           71,95 €                      False   \n80        19,99 €           17,94 €                      False   \n81        89,95 €           62,95 €                      False   \n82        69,95 €           41,95 €                      False   \n83        99,95 €           59,95 €                      False   \n\n    price.has_different_original_prices  \\\n0                                 False   \n1                                 False   \n2                                 False   \n3                                 False   \n4                                 False   \n..                                  ...   \n79                                False   \n80                                False   \n81                                False   \n82                                False   \n83                                False   \n\n    price.has_different_promotional_prices  \\\n0                                    False   \n1                                    False   \n2                                    False   \n3                                     True   \n4                                    False   \n..                                     ...   \n79                                   False   \n80                                   False   \n81                                   False   \n82                                   False   \n83                                   False   \n\n    price.has_discount_on_selected_sizes_only  \\\n0                                       False   \n1                                       False   \n2                                       False   \n3                                       False   \n4                                       False   \n..                                        ...   \n79                                      False   \n80                                      False   \n81                                      False   \n82                                      False   \n83                                      False   \n\n         tracking_information.metrigo_impression_urls  \\\n0   [https://ccp-et.adtechlab.zalan.do/event/sbv?z...   \n1   [https://ccp-et.adtechlab.zalan.do/event/sbv?z...   \n2   [https://ccp-et.adtechlab.zalan.do/event/sbv?z...   \n3                                                 NaN   \n4                                                 NaN   \n..                                                ...   \n79                                                NaN   \n80                                                NaN   \n81                                                NaN   \n82                                                NaN   \n83                                                NaN   \n\n               tracking_information.impression_beacon  \\\n0   https://ccp-et.adtechlab.zalan.do/event/sbv?z=...   \n1   https://ccp-et.adtechlab.zalan.do/event/sbv?z=...   \n2   https://ccp-et.adtechlab.zalan.do/event/sbv?z=...   \n3                                                 NaN   \n4                                                 NaN   \n..                                                ...   \n79                                                NaN   \n80                                                NaN   \n81                                                NaN   \n82                                                NaN   \n83                                                NaN   \n\n   tracking_information.source outfits  \n0                          ccp     NaN  \n1                          ccp     NaN  \n2                          ccp     NaN  \n3                          NaN     NaN  \n4                          NaN     NaN  \n..                         ...     ...  \n79                         NaN     NaN  \n80                         NaN     NaN  \n81                         NaN     NaN  \n82                         NaN     NaN  \n83                         NaN     NaN  \n\n[84 rows x 21 columns]",
      "text/html": "<div>\n<style scoped>\n    .dataframe tbody tr th:only-of-type {\n        vertical-align: middle;\n    }\n\n    .dataframe tbody tr th {\n        vertical-align: top;\n    }\n\n    .dataframe thead th {\n        text-align: right;\n    }\n</style>\n<table border=\"1\" class=\"dataframe\">\n  <thead>\n    <tr style=\"text-align: right;\">\n      <th></th>\n      <th>sku</th>\n      <th>name</th>\n      <th>sizes</th>\n      <th>url_key</th>\n      <th>media</th>\n      <th>brand_name</th>\n      <th>is_premium</th>\n      <th>family_articles</th>\n      <th>flags</th>\n      <th>product_group</th>\n      <th>...</th>\n      <th>price.original</th>\n      <th>price.promotional</th>\n      <th>price.has_different_prices</th>\n      <th>price.has_different_original_prices</th>\n      <th>price.has_different_promotional_prices</th>\n      <th>price.has_discount_on_selected_sizes_only</th>\n      <th>tracking_information.metrigo_impression_urls</th>\n      <th>tracking_information.impression_beacon</th>\n      <th>tracking_information.source</th>\n      <th>outfits</th>\n    </tr>\n  </thead>\n  <tbody>\n    <tr>\n      <th>0</th>\n      <td>HA115G00H-J11</td>\n      <td>SLIDE BRASIL - Sandales de bain - crocus rose</td>\n      <td>[35/36, 37/38, 39/40, 41/42]</td>\n      <td>havaianas-slide-brasil-mules-ha115g00h-j11</td>\n      <td>[{'path': 'HA/11/5G/00/HJ/11/HA115G00H-J11@9.j...</td>\n      <td>Havaianas</td>\n      <td>False</td>\n      <td>[{'sku': 'HA115G00H-J11', 'url_key': 'havaiana...</td>\n      <td>[{'key': 'discountRate', 'value': '-30%', 'tra...</td>\n      <td>shoe</td>\n      <td>...</td>\n      <td>27,95 €</td>\n      <td>19,65 €</td>\n      <td>False</td>\n      <td>False</td>\n      <td>False</td>\n      <td>False</td>\n      <td>[https://ccp-et.adtechlab.zalan.do/event/sbv?z...</td>\n      <td>https://ccp-et.adtechlab.zalan.do/event/sbv?z=...</td>\n      <td>ccp</td>\n      <td>NaN</td>\n    </tr>\n    <tr>\n      <th>1</th>\n      <td>PUC22G0AM-C11</td>\n      <td>PREMIUM-KAROTTENJEANS MIT ZIERRISSEN 05684525 ...</td>\n      <td>[36, 38, 40, 42, 44, 46]</td>\n      <td>pullandbear-premium-karottenjeans-mit-zierriss...</td>\n      <td>[{'path': 'PU/C2/2G/0A/MC/11/PUC22G0AM-C11@20....</td>\n      <td>PULL&amp;BEAR</td>\n      <td>False</td>\n      <td>[{'sku': 'PUC22G0AM-C11', 'url_key': 'pullandb...</td>\n      <td>[{'key': 'discountRate', 'value': '-40%', 'tra...</td>\n      <td>clothing</td>\n      <td>...</td>\n      <td>29,99 €</td>\n      <td>17,99 €</td>\n      <td>False</td>\n      <td>False</td>\n      <td>False</td>\n      <td>False</td>\n      <td>[https://ccp-et.adtechlab.zalan.do/event/sbv?z...</td>\n      <td>https://ccp-et.adtechlab.zalan.do/event/sbv?z=...</td>\n      <td>ccp</td>\n      <td>NaN</td>\n    </tr>\n    <tr>\n      <th>2</th>\n      <td>LE222O055-C11</td>\n      <td>CREWNECK GRAPHIC 2 PACK - T-shirt imprimé - wh...</td>\n      <td>[XS, S, M, L, XL, XXL, 3XL]</td>\n      <td>levisr-crewneck-graphic-2-pack-t-shirt-basique...</td>\n      <td>[{'path': 'LE/22/2O/05/5C/11/LE222O055-C11@9.1...</td>\n      <td>Levi's®</td>\n      <td>False</td>\n      <td>[{'sku': 'LE222O055-C11', 'url_key': 'levisr-c...</td>\n      <td>[{'key': 'discountRate', 'value': '-15%', 'tra...</td>\n      <td>clothing</td>\n      <td>...</td>\n      <td>34,95 €</td>\n      <td>29,65 €</td>\n      <td>False</td>\n      <td>False</td>\n      <td>False</td>\n      <td>False</td>\n      <td>[https://ccp-et.adtechlab.zalan.do/event/sbv?z...</td>\n      <td>https://ccp-et.adtechlab.zalan.do/event/sbv?z=...</td>\n      <td>ccp</td>\n      <td>NaN</td>\n    </tr>\n    <tr>\n      <th>3</th>\n      <td>NI112O08W-Q11</td>\n      <td>AIR MAX 200 - Baskets basses - black</td>\n      <td>[38.5, 39, 40, 40.5, 41, 42, 42.5, 43, 44, 44....</td>\n      <td>nike-sportswear-air-max-200-baskets-basses-ni1...</td>\n      <td>[{'path': 'NI/11/2O/08/WQ/11/NI112O08W-Q11@8.j...</td>\n      <td>Nike Sportswear</td>\n      <td>False</td>\n      <td>[{'sku': 'NI112O08W-Q11', 'url_key': 'nike-spo...</td>\n      <td>[{'key': 'discountRate', 'value': 'Jusqu’à -30...</td>\n      <td>shoe</td>\n      <td>...</td>\n      <td>124,95 €</td>\n      <td>86,95 €</td>\n      <td>True</td>\n      <td>False</td>\n      <td>True</td>\n      <td>False</td>\n      <td>NaN</td>\n      <td>NaN</td>\n      <td>NaN</td>\n      <td>NaN</td>\n    </tr>\n    <tr>\n      <th>4</th>\n      <td>HU752D02V-Q11</td>\n      <td>GEXTER - Ceinture - black</td>\n      <td>[85, 90, 95, 100, 105, 110, 115, 120]</td>\n      <td>hugo-gexter-ceinture-black-hu752d02v-q11</td>\n      <td>[{'path': 'HU/75/2D/02/VQ/11/HU752D02V-Q11@7.j...</td>\n      <td>HUGO</td>\n      <td>True</td>\n      <td>[{'sku': 'HU752D02V-Q11', 'url_key': 'hugo-gex...</td>\n      <td>[{'key': 'discountRate', 'value': '-20%', 'tra...</td>\n      <td>accessoires</td>\n      <td>...</td>\n      <td>69,95 €</td>\n      <td>55,95 €</td>\n      <td>False</td>\n      <td>False</td>\n      <td>False</td>\n      <td>False</td>\n      <td>NaN</td>\n      <td>NaN</td>\n      <td>NaN</td>\n      <td>NaN</td>\n    </tr>\n    <tr>\n      <th>...</th>\n      <td>...</td>\n      <td>...</td>\n      <td>...</td>\n      <td>...</td>\n      <td>...</td>\n      <td>...</td>\n      <td>...</td>\n      <td>...</td>\n      <td>...</td>\n      <td>...</td>\n      <td>...</td>\n      <td>...</td>\n      <td>...</td>\n      <td>...</td>\n      <td>...</td>\n      <td>...</td>\n      <td>...</td>\n      <td>...</td>\n      <td>...</td>\n      <td>...</td>\n      <td>...</td>\n    </tr>\n    <tr>\n      <th>79</th>\n      <td>TOB22S00X-C11</td>\n      <td>ORIGINAL ZIPTHRU - veste en sweat zippée - mot...</td>\n      <td>[XS, M, XL]</td>\n      <td>tommy-jeans-original-zipthru-veste-en-sweat-to...</td>\n      <td>[{'path': 'TO/B2/2S/00/XC/11/TOB22S00X-C11@18....</td>\n      <td>Tommy Jeans</td>\n      <td>False</td>\n      <td>[{'sku': 'TOB22S00X-C11', 'url_key': 'tommy-je...</td>\n      <td>[{'key': 'discountRate', 'value': '-20%', 'tra...</td>\n      <td>clothing</td>\n      <td>...</td>\n      <td>89,95 €</td>\n      <td>71,95 €</td>\n      <td>False</td>\n      <td>False</td>\n      <td>False</td>\n      <td>False</td>\n      <td>NaN</td>\n      <td>NaN</td>\n      <td>NaN</td>\n      <td>NaN</td>\n    </tr>\n    <tr>\n      <th>80</th>\n      <td>PI912O021-A11</td>\n      <td>Baskets basses - white</td>\n      <td>[40, 41, 42, 44, 45, 46, 47, 48]</td>\n      <td>pier-one-baskets-basses-white-pi912o021-a11</td>\n      <td>[{'path': 'PI/91/2O/02/1A/11/PI912O021-A11@2.j...</td>\n      <td>Pier One</td>\n      <td>False</td>\n      <td>[{'sku': 'PI912O021-A11', 'url_key': 'pier-one...</td>\n      <td>[{'key': 'discountRate', 'value': '-10%', 'tra...</td>\n      <td>shoe</td>\n      <td>...</td>\n      <td>19,99 €</td>\n      <td>17,94 €</td>\n      <td>False</td>\n      <td>False</td>\n      <td>False</td>\n      <td>False</td>\n      <td>NaN</td>\n      <td>NaN</td>\n      <td>NaN</td>\n      <td>NaN</td>\n    </tr>\n    <tr>\n      <th>81</th>\n      <td>TOB22E00V-B11</td>\n      <td>SCANTON PANT - Chino - pumice stone</td>\n      <td>[28x30, 28x32, 29x30, 29x32, 29x34, 30x30, 30x...</td>\n      <td>tommy-jeans-scanton-pant-chino-tob22e00v-b11</td>\n      <td>[{'path': 'TO/B2/2E/00/VB/11/TOB22E00V-B11@8.j...</td>\n      <td>Tommy Jeans</td>\n      <td>False</td>\n      <td>[{'sku': 'TOB22E00V-B11', 'url_key': 'tommy-je...</td>\n      <td>[{'key': 'discountRate', 'value': '-30%', 'tra...</td>\n      <td>clothing</td>\n      <td>...</td>\n      <td>89,95 €</td>\n      <td>62,95 €</td>\n      <td>False</td>\n      <td>False</td>\n      <td>False</td>\n      <td>False</td>\n      <td>NaN</td>\n      <td>NaN</td>\n      <td>NaN</td>\n      <td>NaN</td>\n    </tr>\n    <tr>\n      <th>82</th>\n      <td>LE222S038-Q11</td>\n      <td>GRAPHIC HOODIE - Sweat à capuche - black</td>\n      <td>[S, M, L, XL, XXL]</td>\n      <td>levisr-graphic-hoodie-sweatshirt-black-le222s0...</td>\n      <td>[{'path': 'LE/22/2S/03/8Q/11/LE222S038-Q11@7.j...</td>\n      <td>Levi's®</td>\n      <td>False</td>\n      <td>[{'sku': 'LE222S038-Q11', 'url_key': 'levisr-g...</td>\n      <td>[{'key': 'discountRate', 'value': '-40%', 'tra...</td>\n      <td>clothing</td>\n      <td>...</td>\n      <td>69,95 €</td>\n      <td>41,95 €</td>\n      <td>False</td>\n      <td>False</td>\n      <td>False</td>\n      <td>False</td>\n      <td>NaN</td>\n      <td>NaN</td>\n      <td>NaN</td>\n      <td>NaN</td>\n    </tr>\n    <tr>\n      <th>83</th>\n      <td>NI122T03X-G11</td>\n      <td>M NSW NIKE AIR JKT WVN - Veste coupe-vent - un...</td>\n      <td>[M, L, XL]</td>\n      <td>nike-sportswear-veste-legere-university-redbla...</td>\n      <td>[{'path': 'NI/12/2T/03/XG/11/NI122T03X-G11@10....</td>\n      <td>Nike Sportswear</td>\n      <td>False</td>\n      <td>[{'sku': 'NI122T03X-G11', 'url_key': 'nike-spo...</td>\n      <td>[{'key': 'discountRate', 'value': '-40%', 'tra...</td>\n      <td>clothing</td>\n      <td>...</td>\n      <td>99,95 €</td>\n      <td>59,95 €</td>\n      <td>False</td>\n      <td>False</td>\n      <td>False</td>\n      <td>False</td>\n      <td>NaN</td>\n      <td>NaN</td>\n      <td>NaN</td>\n      <td>NaN</td>\n    </tr>\n  </tbody>\n</table>\n<p>84 rows × 21 columns</p>\n</div>"
     },
     "metadata": {},
     "execution_count": 13
    }
   ],
   "source": [
    "#We already Imported the pertinent libraries above. Furthermore, initial API endpoint URL has been established as well. \n",
    "\n",
    "#3. Now let's make a request to obtain data from the first page. \n",
    "response = requests.get(url,headers=headers)\n",
    "results = response.json()\n",
    "\n",
    "#Flattened data can be found here. \n",
    "flattened_data = json_normalize(results)\n",
    "flattened_data1 = json_normalize(flattened_data.articles[0])\n",
    "flattened_data1"
   ]
  },
  {
   "cell_type": "code",
   "execution_count": 14,
   "metadata": {},
   "outputs": [
    {
     "output_type": "execute_result",
     "data": {
      "text/plain": "800"
     },
     "metadata": {},
     "execution_count": 14
    }
   ],
   "source": [
    "#4. Let's find out the total page count in the 1st page data.\n",
    "total_pages = results['pagination']['page_count']\n",
    "total_pages"
   ]
  },
  {
   "cell_type": "code",
   "execution_count": 15,
   "metadata": {},
   "outputs": [],
   "source": [
    "#5. Now we will use a FOR loop to make requests for the additional pages from 2 to page count. Append the data of each additional page to the flatterned data object.\n",
    "df = pd.DataFrame()\n",
    "\n",
    "for i in range(total_pages):\n",
    "    k = 84*i\n",
    "    url = f'https://www.zalando.fr/api/catalog/articles?categories=promo-homme&limit=84&offset={k}&sort=popularity'\n",
    "    headers = {'User-Agent':'Mozilla/5.0 (Macintosh; Intel Mac OS X 10_15_4) AppleWebKit/537.36 (KHTML, like Gecko) Chrome/81.0.4044.138 Safari/537.36'}\n",
    "    response = requests.get(url, headers = headers)\n",
    "    results = response.json()\n",
    "    flattened_data = json_normalize(results)\n",
    "    flattened_data1 = json_normalize(flattened_data.articles[0])\n",
    "    try:\n",
    "        flattened_data1=flattened_data1.set_index('sku')\n",
    "        df = df.append(flattened_data1, sort = True)\n",
    "    except:\n",
    "        pass"
   ]
  },
  {
   "cell_type": "code",
   "execution_count": 16,
   "metadata": {},
   "outputs": [
    {
     "output_type": "execute_result",
     "data": {
      "text/plain": "              amount        brand_name delivery_promises  \\\nsku                                                        \nHA115G00H-J11    NaN         Havaianas                []   \nPUC22G0AM-C11    NaN         PULL&BEAR                []   \nLE222O055-C11    NaN           Levi's®                []   \nNI112O08W-Q11    NaN   Nike Sportswear                []   \nHU752D02V-Q11    NaN              HUGO                []   \n...              ...               ...               ...   \nOA344E07D-N11    NaN            Oakley                []   \nC6642B03R-912    NaN             Craft                []   \nPX844E00E-Q11    NaN               POC                []   \nN1244E0PB-K11    NaN  Nike Performance                []   \nN1244E0K2-M11    NaN  Nike Performance                []   \n\n                                                 family_articles  \\\nsku                                                                \nHA115G00H-J11                                                 []   \nPUC22G0AM-C11                                                 []   \nLE222O055-C11                                                 []   \nNI112O08W-Q11                                                 []   \nHU752D02V-Q11                                                 []   \n...                                                          ...   \nOA344E07D-N11  [{'sku': 'OA344E07D-N11', 'url_key': 'oakley-m...   \nC6642B03R-912  [{'sku': 'C6642B03R-912', 'url_key': 'craft-vi...   \nPX844E00E-Q11  [{'sku': 'PX844E00E-Q11', 'url_key': 'poc-auri...   \nN1244E0PB-K11  [{'sku': 'N1244E0PB-K11', 'url_key': 'nike-per...   \nN1244E0K2-M11  [{'sku': 'N1244E0K2-M11', 'url_key': 'nike-per...   \n\n                                                           flags  is_premium  \\\nsku                                                                            \nHA115G00H-J11  [{'key': 'discountRate', 'value': '-30%', 'tra...       False   \nPUC22G0AM-C11  [{'key': 'discountRate', 'value': '-40%', 'tra...       False   \nLE222O055-C11  [{'key': 'discountRate', 'value': '-15%', 'tra...       False   \nNI112O08W-Q11  [{'key': 'discountRate', 'value': 'Jusqu’à -30...       False   \nHU752D02V-Q11  [{'key': 'discountRate', 'value': '-20%', 'tra...        True   \n...                                                          ...         ...   \nOA344E07D-N11  [{'key': 'campaign', 'value': 'Prix Mini', 'tr...       False   \nC6642B03R-912  [{'key': 'discountRate', 'value': '-20%', 'tra...       False   \nPX844E00E-Q11  [{'key': 'discountRate', 'value': '-10%', 'tra...       False   \nN1244E0PB-K11  [{'key': 'campaign', 'value': 'Prix Mini', 'tr...       False   \nN1244E0K2-M11  [{'key': 'campaign', 'value': 'Prix Mini', 'tr...       False   \n\n                                                           media  \\\nsku                                                                \nHA115G00H-J11  [{'path': 'HA/11/5G/00/HJ/11/HA115G00H-J11@9.j...   \nPUC22G0AM-C11  [{'path': 'PU/C2/2G/0A/MC/11/PUC22G0AM-C11@20....   \nLE222O055-C11  [{'path': 'LE/22/2O/05/5C/11/LE222O055-C11@9.1...   \nNI112O08W-Q11  [{'path': 'NI/11/2O/08/WQ/11/NI112O08W-Q11@8.j...   \nHU752D02V-Q11  [{'path': 'HU/75/2D/02/VQ/11/HU752D02V-Q11@7.j...   \n...                                                          ...   \nOA344E07D-N11  [{'path': 'OA/34/4E/07/DN/11/OA344E07D-N11@2.j...   \nC6642B03R-912  [{'path': 'C6/64/2B/03/R9/12/C6642B03R-912@1.1...   \nPX844E00E-Q11  [{'path': 'PX/84/4E/00/EQ/11/PX844E00E-Q11@13....   \nN1244E0PB-K11  [{'path': 'N1/24/4E/0P/BK/11/N1244E0PB-K11@2.j...   \nN1244E0K2-M11  [{'path': 'N1/24/4E/0K/2M/11/N1244E0K2-M11@7.j...   \n\n                                                            name outfits  \\\nsku                                                                        \nHA115G00H-J11      SLIDE BRASIL - Sandales de bain - crocus rose     NaN   \nPUC22G0AM-C11  PREMIUM-KAROTTENJEANS MIT ZIERRISSEN 05684525 ...     NaN   \nLE222O055-C11  CREWNECK GRAPHIC 2 PACK - T-shirt imprimé - wh...     NaN   \nNI112O08W-Q11               AIR MAX 200 - Baskets basses - black     NaN   \nHU752D02V-Q11                          GEXTER - Ceinture - black     NaN   \n...                                                          ...     ...   \nOA344E07D-N11                  MOD5 EUROPE - Casque - dark brush     NaN   \nC6642B03R-912      VISIBILITY VEST - Veste sans manches - yellow     NaN   \nPX844E00E-Q11                    AURIC CUT - Casque - matt black     NaN   \nN1244E0PB-K11  PARIS ST GERMAIN MERC - Protège-tibias - midni...     NaN   \nN1244E0K2-M11   MERCURIAL LITE - Protège-tibias - electric green     NaN   \n\n              price.base_price  ...  price.has_different_promotional_prices  \\\nsku                             ...                                           \nHA115G00H-J11              NaN  ...                                   False   \nPUC22G0AM-C11              NaN  ...                                   False   \nLE222O055-C11              NaN  ...                                   False   \nNI112O08W-Q11              NaN  ...                                    True   \nHU752D02V-Q11              NaN  ...                                   False   \n...                        ...  ...                                     ...   \nOA344E07D-N11              NaN  ...                                   False   \nC6642B03R-912              NaN  ...                                   False   \nPX844E00E-Q11              NaN  ...                                   False   \nN1244E0PB-K11              NaN  ...                                   False   \nN1244E0K2-M11              NaN  ...                                   False   \n\n               price.has_discount_on_selected_sizes_only  price.original  \\\nsku                                                                        \nHA115G00H-J11                                      False         27,95 €   \nPUC22G0AM-C11                                      False         29,99 €   \nLE222O055-C11                                      False         34,95 €   \nNI112O08W-Q11                                      False        124,95 €   \nHU752D02V-Q11                                      False         69,95 €   \n...                                                  ...             ...   \nOA344E07D-N11                                      False        159,95 €   \nC6642B03R-912                                      False         39,95 €   \nPX844E00E-Q11                                      False        169,95 €   \nN1244E0PB-K11                                      False         21,95 €   \nN1244E0K2-M11                                      False         21,95 €   \n\n               price.promotional product_group  \\\nsku                                              \nHA115G00H-J11            19,65 €          shoe   \nPUC22G0AM-C11            17,99 €      clothing   \nLE222O055-C11            29,65 €      clothing   \nNI112O08W-Q11            86,95 €          shoe   \nHU752D02V-Q11            55,95 €   accessoires   \n...                          ...           ...   \nOA344E07D-N11           159,95 €     equipment   \nC6642B03R-912            31,95 €     equipment   \nPX844E00E-Q11           152,95 €     equipment   \nN1244E0PB-K11            21,95 €     equipment   \nN1244E0K2-M11            21,95 €     equipment   \n\n                                                           sizes  \\\nsku                                                                \nHA115G00H-J11                       [35/36, 37/38, 39/40, 41/42]   \nPUC22G0AM-C11                           [36, 38, 40, 42, 44, 46]   \nLE222O055-C11                        [XS, S, M, L, XL, XXL, 3XL]   \nNI112O08W-Q11  [38.5, 39, 40, 40.5, 41, 42, 42.5, 43, 44, 44....   \nHU752D02V-Q11              [85, 90, 95, 100, 105, 110, 115, 120]   \n...                                                          ...   \nOA344E07D-N11                                                 []   \nC6642B03R-912                                                [S]   \nPX844E00E-Q11                                            [59-62]   \nN1244E0PB-K11                                                [L]   \nN1244E0K2-M11                                               [XL]   \n\n                          tracking_information.impression_beacon  \\\nsku                                                                \nHA115G00H-J11  https://ccp-et.adtechlab.zalan.do/event/sbv?z=...   \nPUC22G0AM-C11  https://ccp-et.adtechlab.zalan.do/event/sbv?z=...   \nLE222O055-C11  https://ccp-et.adtechlab.zalan.do/event/sbv?z=...   \nNI112O08W-Q11                                                NaN   \nHU752D02V-Q11                                                NaN   \n...                                                          ...   \nOA344E07D-N11                                                NaN   \nC6642B03R-912                                                NaN   \nPX844E00E-Q11                                                NaN   \nN1244E0PB-K11                                                NaN   \nN1244E0K2-M11                                                NaN   \n\n                    tracking_information.metrigo_impression_urls  \\\nsku                                                                \nHA115G00H-J11  [https://ccp-et.adtechlab.zalan.do/event/sbv?z...   \nPUC22G0AM-C11  [https://ccp-et.adtechlab.zalan.do/event/sbv?z...   \nLE222O055-C11  [https://ccp-et.adtechlab.zalan.do/event/sbv?z...   \nNI112O08W-Q11                                                NaN   \nHU752D02V-Q11                                                NaN   \n...                                                          ...   \nOA344E07D-N11                                                NaN   \nC6642B03R-912                                                NaN   \nPX844E00E-Q11                                                NaN   \nN1244E0PB-K11                                                NaN   \nN1244E0K2-M11                                                NaN   \n\n              tracking_information.source  \\\nsku                                         \nHA115G00H-J11                         ccp   \nPUC22G0AM-C11                         ccp   \nLE222O055-C11                         ccp   \nNI112O08W-Q11                         NaN   \nHU752D02V-Q11                         NaN   \n...                                   ...   \nOA344E07D-N11                         NaN   \nC6642B03R-912                         NaN   \nPX844E00E-Q11                         NaN   \nN1244E0PB-K11                         NaN   \nN1244E0K2-M11                         NaN   \n\n                                                         url_key  \nsku                                                               \nHA115G00H-J11         havaianas-slide-brasil-mules-ha115g00h-j11  \nPUC22G0AM-C11  pullandbear-premium-karottenjeans-mit-zierriss...  \nLE222O055-C11  levisr-crewneck-graphic-2-pack-t-shirt-basique...  \nNI112O08W-Q11  nike-sportswear-air-max-200-baskets-basses-ni1...  \nHU752D02V-Q11           hugo-gexter-ceinture-black-hu752d02v-q11  \n...                                                          ...  \nOA344E07D-N11  oakley-mod5-europe-casque-dark-brush-oa344e07d...  \nC6642B03R-912  craft-visibility-vest-veste-sans-manches-jaune...  \nPX844E00E-Q11                 poc-auric-cut-casque-px844e00e-q11  \nN1244E0PB-K11  nike-performance-protege-tibias-midnight-navyu...  \nN1244E0K2-M11  nike-performance-mercurial-lite-protege-tibias...  \n\n[67158 rows x 22 columns]",
      "text/html": "<div>\n<style scoped>\n    .dataframe tbody tr th:only-of-type {\n        vertical-align: middle;\n    }\n\n    .dataframe tbody tr th {\n        vertical-align: top;\n    }\n\n    .dataframe thead th {\n        text-align: right;\n    }\n</style>\n<table border=\"1\" class=\"dataframe\">\n  <thead>\n    <tr style=\"text-align: right;\">\n      <th></th>\n      <th>amount</th>\n      <th>brand_name</th>\n      <th>delivery_promises</th>\n      <th>family_articles</th>\n      <th>flags</th>\n      <th>is_premium</th>\n      <th>media</th>\n      <th>name</th>\n      <th>outfits</th>\n      <th>price.base_price</th>\n      <th>...</th>\n      <th>price.has_different_promotional_prices</th>\n      <th>price.has_discount_on_selected_sizes_only</th>\n      <th>price.original</th>\n      <th>price.promotional</th>\n      <th>product_group</th>\n      <th>sizes</th>\n      <th>tracking_information.impression_beacon</th>\n      <th>tracking_information.metrigo_impression_urls</th>\n      <th>tracking_information.source</th>\n      <th>url_key</th>\n    </tr>\n    <tr>\n      <th>sku</th>\n      <th></th>\n      <th></th>\n      <th></th>\n      <th></th>\n      <th></th>\n      <th></th>\n      <th></th>\n      <th></th>\n      <th></th>\n      <th></th>\n      <th></th>\n      <th></th>\n      <th></th>\n      <th></th>\n      <th></th>\n      <th></th>\n      <th></th>\n      <th></th>\n      <th></th>\n      <th></th>\n      <th></th>\n    </tr>\n  </thead>\n  <tbody>\n    <tr>\n      <th>HA115G00H-J11</th>\n      <td>NaN</td>\n      <td>Havaianas</td>\n      <td>[]</td>\n      <td>[]</td>\n      <td>[{'key': 'discountRate', 'value': '-30%', 'tra...</td>\n      <td>False</td>\n      <td>[{'path': 'HA/11/5G/00/HJ/11/HA115G00H-J11@9.j...</td>\n      <td>SLIDE BRASIL - Sandales de bain - crocus rose</td>\n      <td>NaN</td>\n      <td>NaN</td>\n      <td>...</td>\n      <td>False</td>\n      <td>False</td>\n      <td>27,95 €</td>\n      <td>19,65 €</td>\n      <td>shoe</td>\n      <td>[35/36, 37/38, 39/40, 41/42]</td>\n      <td>https://ccp-et.adtechlab.zalan.do/event/sbv?z=...</td>\n      <td>[https://ccp-et.adtechlab.zalan.do/event/sbv?z...</td>\n      <td>ccp</td>\n      <td>havaianas-slide-brasil-mules-ha115g00h-j11</td>\n    </tr>\n    <tr>\n      <th>PUC22G0AM-C11</th>\n      <td>NaN</td>\n      <td>PULL&amp;BEAR</td>\n      <td>[]</td>\n      <td>[]</td>\n      <td>[{'key': 'discountRate', 'value': '-40%', 'tra...</td>\n      <td>False</td>\n      <td>[{'path': 'PU/C2/2G/0A/MC/11/PUC22G0AM-C11@20....</td>\n      <td>PREMIUM-KAROTTENJEANS MIT ZIERRISSEN 05684525 ...</td>\n      <td>NaN</td>\n      <td>NaN</td>\n      <td>...</td>\n      <td>False</td>\n      <td>False</td>\n      <td>29,99 €</td>\n      <td>17,99 €</td>\n      <td>clothing</td>\n      <td>[36, 38, 40, 42, 44, 46]</td>\n      <td>https://ccp-et.adtechlab.zalan.do/event/sbv?z=...</td>\n      <td>[https://ccp-et.adtechlab.zalan.do/event/sbv?z...</td>\n      <td>ccp</td>\n      <td>pullandbear-premium-karottenjeans-mit-zierriss...</td>\n    </tr>\n    <tr>\n      <th>LE222O055-C11</th>\n      <td>NaN</td>\n      <td>Levi's®</td>\n      <td>[]</td>\n      <td>[]</td>\n      <td>[{'key': 'discountRate', 'value': '-15%', 'tra...</td>\n      <td>False</td>\n      <td>[{'path': 'LE/22/2O/05/5C/11/LE222O055-C11@9.1...</td>\n      <td>CREWNECK GRAPHIC 2 PACK - T-shirt imprimé - wh...</td>\n      <td>NaN</td>\n      <td>NaN</td>\n      <td>...</td>\n      <td>False</td>\n      <td>False</td>\n      <td>34,95 €</td>\n      <td>29,65 €</td>\n      <td>clothing</td>\n      <td>[XS, S, M, L, XL, XXL, 3XL]</td>\n      <td>https://ccp-et.adtechlab.zalan.do/event/sbv?z=...</td>\n      <td>[https://ccp-et.adtechlab.zalan.do/event/sbv?z...</td>\n      <td>ccp</td>\n      <td>levisr-crewneck-graphic-2-pack-t-shirt-basique...</td>\n    </tr>\n    <tr>\n      <th>NI112O08W-Q11</th>\n      <td>NaN</td>\n      <td>Nike Sportswear</td>\n      <td>[]</td>\n      <td>[]</td>\n      <td>[{'key': 'discountRate', 'value': 'Jusqu’à -30...</td>\n      <td>False</td>\n      <td>[{'path': 'NI/11/2O/08/WQ/11/NI112O08W-Q11@8.j...</td>\n      <td>AIR MAX 200 - Baskets basses - black</td>\n      <td>NaN</td>\n      <td>NaN</td>\n      <td>...</td>\n      <td>True</td>\n      <td>False</td>\n      <td>124,95 €</td>\n      <td>86,95 €</td>\n      <td>shoe</td>\n      <td>[38.5, 39, 40, 40.5, 41, 42, 42.5, 43, 44, 44....</td>\n      <td>NaN</td>\n      <td>NaN</td>\n      <td>NaN</td>\n      <td>nike-sportswear-air-max-200-baskets-basses-ni1...</td>\n    </tr>\n    <tr>\n      <th>HU752D02V-Q11</th>\n      <td>NaN</td>\n      <td>HUGO</td>\n      <td>[]</td>\n      <td>[]</td>\n      <td>[{'key': 'discountRate', 'value': '-20%', 'tra...</td>\n      <td>True</td>\n      <td>[{'path': 'HU/75/2D/02/VQ/11/HU752D02V-Q11@7.j...</td>\n      <td>GEXTER - Ceinture - black</td>\n      <td>NaN</td>\n      <td>NaN</td>\n      <td>...</td>\n      <td>False</td>\n      <td>False</td>\n      <td>69,95 €</td>\n      <td>55,95 €</td>\n      <td>accessoires</td>\n      <td>[85, 90, 95, 100, 105, 110, 115, 120]</td>\n      <td>NaN</td>\n      <td>NaN</td>\n      <td>NaN</td>\n      <td>hugo-gexter-ceinture-black-hu752d02v-q11</td>\n    </tr>\n    <tr>\n      <th>...</th>\n      <td>...</td>\n      <td>...</td>\n      <td>...</td>\n      <td>...</td>\n      <td>...</td>\n      <td>...</td>\n      <td>...</td>\n      <td>...</td>\n      <td>...</td>\n      <td>...</td>\n      <td>...</td>\n      <td>...</td>\n      <td>...</td>\n      <td>...</td>\n      <td>...</td>\n      <td>...</td>\n      <td>...</td>\n      <td>...</td>\n      <td>...</td>\n      <td>...</td>\n      <td>...</td>\n    </tr>\n    <tr>\n      <th>OA344E07D-N11</th>\n      <td>NaN</td>\n      <td>Oakley</td>\n      <td>[]</td>\n      <td>[{'sku': 'OA344E07D-N11', 'url_key': 'oakley-m...</td>\n      <td>[{'key': 'campaign', 'value': 'Prix Mini', 'tr...</td>\n      <td>False</td>\n      <td>[{'path': 'OA/34/4E/07/DN/11/OA344E07D-N11@2.j...</td>\n      <td>MOD5 EUROPE - Casque - dark brush</td>\n      <td>NaN</td>\n      <td>NaN</td>\n      <td>...</td>\n      <td>False</td>\n      <td>False</td>\n      <td>159,95 €</td>\n      <td>159,95 €</td>\n      <td>equipment</td>\n      <td>[]</td>\n      <td>NaN</td>\n      <td>NaN</td>\n      <td>NaN</td>\n      <td>oakley-mod5-europe-casque-dark-brush-oa344e07d...</td>\n    </tr>\n    <tr>\n      <th>C6642B03R-912</th>\n      <td>NaN</td>\n      <td>Craft</td>\n      <td>[]</td>\n      <td>[{'sku': 'C6642B03R-912', 'url_key': 'craft-vi...</td>\n      <td>[{'key': 'discountRate', 'value': '-20%', 'tra...</td>\n      <td>False</td>\n      <td>[{'path': 'C6/64/2B/03/R9/12/C6642B03R-912@1.1...</td>\n      <td>VISIBILITY VEST - Veste sans manches - yellow</td>\n      <td>NaN</td>\n      <td>NaN</td>\n      <td>...</td>\n      <td>False</td>\n      <td>False</td>\n      <td>39,95 €</td>\n      <td>31,95 €</td>\n      <td>equipment</td>\n      <td>[S]</td>\n      <td>NaN</td>\n      <td>NaN</td>\n      <td>NaN</td>\n      <td>craft-visibility-vest-veste-sans-manches-jaune...</td>\n    </tr>\n    <tr>\n      <th>PX844E00E-Q11</th>\n      <td>NaN</td>\n      <td>POC</td>\n      <td>[]</td>\n      <td>[{'sku': 'PX844E00E-Q11', 'url_key': 'poc-auri...</td>\n      <td>[{'key': 'discountRate', 'value': '-10%', 'tra...</td>\n      <td>False</td>\n      <td>[{'path': 'PX/84/4E/00/EQ/11/PX844E00E-Q11@13....</td>\n      <td>AURIC CUT - Casque - matt black</td>\n      <td>NaN</td>\n      <td>NaN</td>\n      <td>...</td>\n      <td>False</td>\n      <td>False</td>\n      <td>169,95 €</td>\n      <td>152,95 €</td>\n      <td>equipment</td>\n      <td>[59-62]</td>\n      <td>NaN</td>\n      <td>NaN</td>\n      <td>NaN</td>\n      <td>poc-auric-cut-casque-px844e00e-q11</td>\n    </tr>\n    <tr>\n      <th>N1244E0PB-K11</th>\n      <td>NaN</td>\n      <td>Nike Performance</td>\n      <td>[]</td>\n      <td>[{'sku': 'N1244E0PB-K11', 'url_key': 'nike-per...</td>\n      <td>[{'key': 'campaign', 'value': 'Prix Mini', 'tr...</td>\n      <td>False</td>\n      <td>[{'path': 'N1/24/4E/0P/BK/11/N1244E0PB-K11@2.j...</td>\n      <td>PARIS ST GERMAIN MERC - Protège-tibias - midni...</td>\n      <td>NaN</td>\n      <td>NaN</td>\n      <td>...</td>\n      <td>False</td>\n      <td>False</td>\n      <td>21,95 €</td>\n      <td>21,95 €</td>\n      <td>equipment</td>\n      <td>[L]</td>\n      <td>NaN</td>\n      <td>NaN</td>\n      <td>NaN</td>\n      <td>nike-performance-protege-tibias-midnight-navyu...</td>\n    </tr>\n    <tr>\n      <th>N1244E0K2-M11</th>\n      <td>NaN</td>\n      <td>Nike Performance</td>\n      <td>[]</td>\n      <td>[{'sku': 'N1244E0K2-M11', 'url_key': 'nike-per...</td>\n      <td>[{'key': 'campaign', 'value': 'Prix Mini', 'tr...</td>\n      <td>False</td>\n      <td>[{'path': 'N1/24/4E/0K/2M/11/N1244E0K2-M11@7.j...</td>\n      <td>MERCURIAL LITE - Protège-tibias - electric green</td>\n      <td>NaN</td>\n      <td>NaN</td>\n      <td>...</td>\n      <td>False</td>\n      <td>False</td>\n      <td>21,95 €</td>\n      <td>21,95 €</td>\n      <td>equipment</td>\n      <td>[XL]</td>\n      <td>NaN</td>\n      <td>NaN</td>\n      <td>NaN</td>\n      <td>nike-performance-mercurial-lite-protege-tibias...</td>\n    </tr>\n  </tbody>\n</table>\n<p>67158 rows × 22 columns</p>\n</div>"
     },
     "metadata": {},
     "execution_count": 16
    }
   ],
   "source": [
    "#6. Finally, let's print the data we just got. \n",
    "df"
   ]
  },
  {
   "cell_type": "markdown",
   "metadata": {},
   "source": [
    "## Bonus\n",
    "\n",
    "Extract the following information from the data:\n",
    "\n",
    "* The trending brand.\n",
    "\n",
    "* The product(s) with the highest discount.\n",
    "\n",
    "* The sum of discounts of all goods (sum_discounted_prices divided by sum_original_prices)."
   ]
  },
  {
   "cell_type": "code",
   "execution_count": 17,
   "metadata": {},
   "outputs": [
    {
     "output_type": "execute_result",
     "data": {
      "text/plain": "'Jack & Jones'"
     },
     "metadata": {},
     "execution_count": 17
    }
   ],
   "source": [
    "#1. Extracting the trending brand from our df.\n",
    "df.brand_name.value_counts().index[0]"
   ]
  },
  {
   "cell_type": "code",
   "execution_count": 18,
   "metadata": {},
   "outputs": [],
   "source": [
    "#2. Extracting the product with the highest discount. \n",
    "\n",
    "#Our data is still text. Let's convert prices into numbers:\n",
    "df['price.original']=df['price.original'].str.extract('(\\d*,\\d*)')\n",
    "df['price.promotional']=df['price.promotional'].str.extract('(\\d*,\\d*)')\n",
    "\n",
    "df['price.original'] = [x.replace(',', '.') for x in df['price.original']]\n",
    "df['price.promotional'] = [x.replace(',', '.') for x in df['price.promotional']]\n",
    "\n",
    "#Defining a Discount Ammount Column to later examine which product has the highest discount. \n",
    "df['discount_amount']=df['price.original'].astype(float)-df['price.promotional'].astype(float)\n",
    "df1=df.copy()\n",
    "\n",
    "#Group our SKUs by the ammount of money discounted from the original price.\n",
    "total_disc=df1.groupby(['name']).sum().discount_amount"
   ]
  },
  {
   "cell_type": "code",
   "execution_count": 29,
   "metadata": {},
   "outputs": [
    {
     "output_type": "execute_result",
     "data": {
      "text/plain": "\"Veste d'hiver - black\""
     },
     "metadata": {},
     "execution_count": 29
    }
   ],
   "source": [
    "#Sort every SKU by ascending order and show the article with the most discount applied to it. \n",
    "total_disc.sort_values(ascending=False).index[0]"
   ]
  },
  {
   "cell_type": "code",
   "execution_count": 39,
   "metadata": {
    "tags": [
     "outputPrepend"
    ]
   },
   "outputs": [
    {
     "output_type": "stream",
     "name": "stdout",
     "text": "The sum of discounts of all goods is: 81.70%\n"
    }
   ],
   "source": [
    "#3. Getting the sum of discounts of all goods (sum_discounted_prices divided by sum_original_prices).\n",
    "\n",
    "#Let's first define a column named sum_discounted_prices.\n",
    "sum_discounted_prices = df['price.promotional'].astype(float).sum()\n",
    "\n",
    "#Then we'll define a column named sum_original_prices.\n",
    "sum_original_prices = df['price.original'].astype(float).sum()\n",
    "\n",
    "#Finally, let's make the ratio. \n",
    "ratio = sum_discounted_prices/sum_original_prices\n",
    "print('The sum of discounts of all goods is: {:.2%}'.format(ratio))"
   ]
  },
  {
   "cell_type": "code",
   "execution_count": null,
   "metadata": {},
   "outputs": [],
   "source": []
  }
 ],
 "metadata": {
  "kernelspec": {
   "display_name": "Python 3.7.6 64-bit ('anaconda3': virtualenv)",
   "language": "python",
   "name": "python37664bitanaconda3virtualenv0697af1ee67a458e9253591065064715"
  },
  "language_info": {
   "codemirror_mode": {
    "name": "ipython",
    "version": 3
   },
   "file_extension": ".py",
   "mimetype": "text/x-python",
   "name": "python",
   "nbconvert_exporter": "python",
   "pygments_lexer": "ipython3",
   "version": "3.7.6-final"
  }
 },
 "nbformat": 4,
 "nbformat_minor": 2
}